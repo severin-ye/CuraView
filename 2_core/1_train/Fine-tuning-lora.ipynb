{
 "cells": [
  {
   "cell_type": "code",
   "execution_count": null,
   "id": "30e80a62-28b5-481b-918f-797125eaeb25",
   "metadata": {
    "tags": [],
    "vscode": {
     "languageId": "shellscript"
    }
   },
   "outputs": [
    {
     "name": "stdout",
     "output_type": "stream",
     "text": [
      "Looking in indexes: https://pypi.org/simple, https://pypi.ngc.nvidia.com\n",
      "Requirement already satisfied: ms-swift in /home/work/hd/.venv/lib/python3.10/site-packages (3.9.0)\n",
      "Requirement already satisfied: accelerate in /home/work/.local/lib/python3.10/site-packages (from ms-swift) (1.10.1)\n",
      "Requirement already satisfied: addict in /home/work/.local/lib/python3.10/site-packages (from ms-swift) (2.4.0)\n",
      "Requirement already satisfied: aiohttp in /home/work/hd/.venv/lib/python3.10/site-packages (from ms-swift) (3.13.0)\n",
      "Requirement already satisfied: attrdict in /home/work/.local/lib/python3.10/site-packages (from ms-swift) (2.0.1)\n",
      "Requirement already satisfied: binpacking in /home/work/.local/lib/python3.10/site-packages (from ms-swift) (1.5.2)\n",
      "Requirement already satisfied: charset-normalizer in /home/work/hd/.venv/lib/python3.10/site-packages (from ms-swift) (3.4.3)\n",
      "Requirement already satisfied: cpm-kernels in /home/work/.local/lib/python3.10/site-packages (from ms-swift) (1.0.11)\n",
      "Requirement already satisfied: dacite in /home/work/hd/.venv/lib/python3.10/site-packages (from ms-swift) (1.9.2)\n",
      "Requirement already satisfied: datasets<4.0,>=3.0 in /home/work/hd/.venv/lib/python3.10/site-packages (from ms-swift) (3.6.0)\n",
      "Requirement already satisfied: einops in /home/work/hd/.venv/lib/python3.10/site-packages (from ms-swift) (0.8.1)\n",
      "Requirement already satisfied: fastapi in /home/work/.local/lib/python3.10/site-packages (from ms-swift) (0.117.1)\n",
      "Requirement already satisfied: gradio>=3.40.0 in /home/work/.local/lib/python3.10/site-packages (from ms-swift) (5.47.1)\n",
      "Requirement already satisfied: importlib-metadata in /home/work/hd/.venv/lib/python3.10/site-packages (from ms-swift) (8.7.0)\n",
      "Requirement already satisfied: jieba in /home/work/.local/lib/python3.10/site-packages (from ms-swift) (0.42.1)\n",
      "Requirement already satisfied: json-repair in /home/work/hd/.venv/lib/python3.10/site-packages (from ms-swift) (0.52.0)\n",
      "Requirement already satisfied: matplotlib in /home/work/hd/.venv/lib/python3.10/site-packages (from ms-swift) (3.10.7)\n",
      "Requirement already satisfied: modelscope>=1.23 in /home/work/.local/lib/python3.10/site-packages (from ms-swift) (1.30.0)\n",
      "Requirement already satisfied: nltk in /home/work/hd/.venv/lib/python3.10/site-packages (from ms-swift) (3.9.2)\n",
      "Requirement already satisfied: numpy in /home/work/hd/.venv/lib/python3.10/site-packages (from ms-swift) (1.26.4)\n",
      "Requirement already satisfied: openai in /home/work/.local/lib/python3.10/site-packages (from ms-swift) (1.109.1)\n",
      "Requirement already satisfied: oss2 in /home/work/.local/lib/python3.10/site-packages (from ms-swift) (2.19.1)\n",
      "Requirement already satisfied: pandas in /home/work/hd/.venv/lib/python3.10/site-packages (from ms-swift) (2.3.3)\n",
      "Requirement already satisfied: peft<0.18,>=0.11 in /home/work/hd/.venv/lib/python3.10/site-packages (from ms-swift) (0.15.2)\n",
      "Requirement already satisfied: pillow in /home/work/hd/.venv/lib/python3.10/site-packages (from ms-swift) (11.3.0)\n",
      "Requirement already satisfied: PyYAML>=5.4 in /home/work/hd/.venv/lib/python3.10/site-packages (from ms-swift) (6.0.3)\n",
      "Requirement already satisfied: requests in /home/work/hd/.venv/lib/python3.10/site-packages (from ms-swift) (2.32.5)\n",
      "Requirement already satisfied: rouge in /home/work/.local/lib/python3.10/site-packages (from ms-swift) (1.0.1)\n",
      "Requirement already satisfied: safetensors in /home/work/hd/.venv/lib/python3.10/site-packages (from ms-swift) (0.6.2)\n",
      "Requirement already satisfied: scipy in /home/work/hd/.venv/lib/python3.10/site-packages (from ms-swift) (1.13.1)\n",
      "Requirement already satisfied: sentencepiece in /home/work/hd/.venv/lib/python3.10/site-packages (from ms-swift) (0.2.1)\n",
      "Requirement already satisfied: simplejson>=3.3.0 in /home/work/hd/.venv/lib/python3.10/site-packages (from ms-swift) (3.20.2)\n",
      "Requirement already satisfied: sortedcontainers>=1.5.9 in /home/work/hd/.venv/lib/python3.10/site-packages (from ms-swift) (2.4.0)\n",
      "Requirement already satisfied: tensorboard in /home/work/hd/.venv/lib/python3.10/site-packages (from ms-swift) (2.20.0)\n",
      "Requirement already satisfied: tiktoken in /home/work/.local/lib/python3.10/site-packages (from ms-swift) (0.11.0)\n",
      "Requirement already satisfied: tqdm in /home/work/hd/.venv/lib/python3.10/site-packages (from ms-swift) (4.67.1)\n",
      "Requirement already satisfied: transformers<4.58,>=4.33 in /home/work/hd/.venv/lib/python3.10/site-packages (from ms-swift) (4.57.1)\n",
      "Requirement already satisfied: transformers-stream-generator in /home/work/.local/lib/python3.10/site-packages (from ms-swift) (0.0.5)\n",
      "Requirement already satisfied: trl<0.24,>=0.15 in /home/work/.local/lib/python3.10/site-packages (from ms-swift) (0.20.0)\n",
      "Requirement already satisfied: uvicorn in /home/work/.local/lib/python3.10/site-packages (from ms-swift) (0.37.0)\n",
      "Requirement already satisfied: zstandard in /home/work/.local/lib/python3.10/site-packages (from ms-swift) (0.25.0)\n",
      "Requirement already satisfied: accelerate in /home/work/.local/lib/python3.10/site-packages (from ms-swift) (1.10.1)\n",
      "Requirement already satisfied: addict in /home/work/.local/lib/python3.10/site-packages (from ms-swift) (2.4.0)\n",
      "Requirement already satisfied: aiohttp in /home/work/hd/.venv/lib/python3.10/site-packages (from ms-swift) (3.13.0)\n",
      "Requirement already satisfied: attrdict in /home/work/.local/lib/python3.10/site-packages (from ms-swift) (2.0.1)\n",
      "Requirement already satisfied: binpacking in /home/work/.local/lib/python3.10/site-packages (from ms-swift) (1.5.2)\n",
      "Requirement already satisfied: charset-normalizer in /home/work/hd/.venv/lib/python3.10/site-packages (from ms-swift) (3.4.3)\n",
      "Requirement already satisfied: cpm-kernels in /home/work/.local/lib/python3.10/site-packages (from ms-swift) (1.0.11)\n",
      "Requirement already satisfied: dacite in /home/work/hd/.venv/lib/python3.10/site-packages (from ms-swift) (1.9.2)\n",
      "Requirement already satisfied: datasets<4.0,>=3.0 in /home/work/hd/.venv/lib/python3.10/site-packages (from ms-swift) (3.6.0)\n",
      "Requirement already satisfied: einops in /home/work/hd/.venv/lib/python3.10/site-packages (from ms-swift) (0.8.1)\n",
      "Requirement already satisfied: fastapi in /home/work/.local/lib/python3.10/site-packages (from ms-swift) (0.117.1)\n",
      "Requirement already satisfied: gradio>=3.40.0 in /home/work/.local/lib/python3.10/site-packages (from ms-swift) (5.47.1)\n",
      "Requirement already satisfied: importlib-metadata in /home/work/hd/.venv/lib/python3.10/site-packages (from ms-swift) (8.7.0)\n",
      "Requirement already satisfied: jieba in /home/work/.local/lib/python3.10/site-packages (from ms-swift) (0.42.1)\n",
      "Requirement already satisfied: json-repair in /home/work/hd/.venv/lib/python3.10/site-packages (from ms-swift) (0.52.0)\n",
      "Requirement already satisfied: matplotlib in /home/work/hd/.venv/lib/python3.10/site-packages (from ms-swift) (3.10.7)\n",
      "Requirement already satisfied: modelscope>=1.23 in /home/work/.local/lib/python3.10/site-packages (from ms-swift) (1.30.0)\n",
      "Requirement already satisfied: nltk in /home/work/hd/.venv/lib/python3.10/site-packages (from ms-swift) (3.9.2)\n",
      "Requirement already satisfied: numpy in /home/work/hd/.venv/lib/python3.10/site-packages (from ms-swift) (1.26.4)\n",
      "Requirement already satisfied: openai in /home/work/.local/lib/python3.10/site-packages (from ms-swift) (1.109.1)\n",
      "Requirement already satisfied: oss2 in /home/work/.local/lib/python3.10/site-packages (from ms-swift) (2.19.1)\n",
      "Requirement already satisfied: pandas in /home/work/hd/.venv/lib/python3.10/site-packages (from ms-swift) (2.3.3)\n",
      "Requirement already satisfied: peft<0.18,>=0.11 in /home/work/hd/.venv/lib/python3.10/site-packages (from ms-swift) (0.15.2)\n",
      "Requirement already satisfied: pillow in /home/work/hd/.venv/lib/python3.10/site-packages (from ms-swift) (11.3.0)\n",
      "Requirement already satisfied: PyYAML>=5.4 in /home/work/hd/.venv/lib/python3.10/site-packages (from ms-swift) (6.0.3)\n",
      "Requirement already satisfied: requests in /home/work/hd/.venv/lib/python3.10/site-packages (from ms-swift) (2.32.5)\n",
      "Requirement already satisfied: rouge in /home/work/.local/lib/python3.10/site-packages (from ms-swift) (1.0.1)\n",
      "Requirement already satisfied: safetensors in /home/work/hd/.venv/lib/python3.10/site-packages (from ms-swift) (0.6.2)\n",
      "Requirement already satisfied: scipy in /home/work/hd/.venv/lib/python3.10/site-packages (from ms-swift) (1.13.1)\n",
      "Requirement already satisfied: sentencepiece in /home/work/hd/.venv/lib/python3.10/site-packages (from ms-swift) (0.2.1)\n",
      "Requirement already satisfied: simplejson>=3.3.0 in /home/work/hd/.venv/lib/python3.10/site-packages (from ms-swift) (3.20.2)\n",
      "Requirement already satisfied: sortedcontainers>=1.5.9 in /home/work/hd/.venv/lib/python3.10/site-packages (from ms-swift) (2.4.0)\n",
      "Requirement already satisfied: tensorboard in /home/work/hd/.venv/lib/python3.10/site-packages (from ms-swift) (2.20.0)\n",
      "Requirement already satisfied: tiktoken in /home/work/.local/lib/python3.10/site-packages (from ms-swift) (0.11.0)\n",
      "Requirement already satisfied: tqdm in /home/work/hd/.venv/lib/python3.10/site-packages (from ms-swift) (4.67.1)\n",
      "Requirement already satisfied: transformers<4.58,>=4.33 in /home/work/hd/.venv/lib/python3.10/site-packages (from ms-swift) (4.57.1)\n",
      "Requirement already satisfied: transformers-stream-generator in /home/work/.local/lib/python3.10/site-packages (from ms-swift) (0.0.5)\n",
      "Requirement already satisfied: trl<0.24,>=0.15 in /home/work/.local/lib/python3.10/site-packages (from ms-swift) (0.20.0)\n",
      "Requirement already satisfied: uvicorn in /home/work/.local/lib/python3.10/site-packages (from ms-swift) (0.37.0)\n",
      "Requirement already satisfied: zstandard in /home/work/.local/lib/python3.10/site-packages (from ms-swift) (0.25.0)\n",
      "Requirement already satisfied: filelock in /home/work/hd/.venv/lib/python3.10/site-packages (from datasets<4.0,>=3.0->ms-swift) (3.20.0)\n",
      "Requirement already satisfied: pyarrow>=15.0.0 in /home/work/hd/.venv/lib/python3.10/site-packages (from datasets<4.0,>=3.0->ms-swift) (21.0.0)\n",
      "Requirement already satisfied: dill<0.3.9,>=0.3.0 in /home/work/hd/.venv/lib/python3.10/site-packages (from datasets<4.0,>=3.0->ms-swift) (0.3.8)\n",
      "Requirement already satisfied: xxhash in /home/work/hd/.venv/lib/python3.10/site-packages (from datasets<4.0,>=3.0->ms-swift) (3.6.0)\n",
      "Requirement already satisfied: multiprocess<0.70.17 in /home/work/hd/.venv/lib/python3.10/site-packages (from datasets<4.0,>=3.0->ms-swift) (0.70.16)\n",
      "Requirement already satisfied: fsspec<=2025.3.0,>=2023.1.0 in /home/work/hd/.venv/lib/python3.10/site-packages (from fsspec[http]<=2025.3.0,>=2023.1.0->datasets<4.0,>=3.0->ms-swift) (2025.3.0)\n",
      "Requirement already satisfied: huggingface-hub>=0.24.0 in /home/work/.local/lib/python3.10/site-packages (from datasets<4.0,>=3.0->ms-swift) (0.35.1)\n",
      "Requirement already satisfied: packaging in /home/work/hd/.venv/lib/python3.10/site-packages (from datasets<4.0,>=3.0->ms-swift) (25.0)\n",
      "Requirement already satisfied: filelock in /home/work/hd/.venv/lib/python3.10/site-packages (from datasets<4.0,>=3.0->ms-swift) (3.20.0)\n",
      "Requirement already satisfied: pyarrow>=15.0.0 in /home/work/hd/.venv/lib/python3.10/site-packages (from datasets<4.0,>=3.0->ms-swift) (21.0.0)\n",
      "Requirement already satisfied: dill<0.3.9,>=0.3.0 in /home/work/hd/.venv/lib/python3.10/site-packages (from datasets<4.0,>=3.0->ms-swift) (0.3.8)\n",
      "Requirement already satisfied: xxhash in /home/work/hd/.venv/lib/python3.10/site-packages (from datasets<4.0,>=3.0->ms-swift) (3.6.0)\n",
      "Requirement already satisfied: multiprocess<0.70.17 in /home/work/hd/.venv/lib/python3.10/site-packages (from datasets<4.0,>=3.0->ms-swift) (0.70.16)\n",
      "Requirement already satisfied: fsspec<=2025.3.0,>=2023.1.0 in /home/work/hd/.venv/lib/python3.10/site-packages (from fsspec[http]<=2025.3.0,>=2023.1.0->datasets<4.0,>=3.0->ms-swift) (2025.3.0)\n",
      "Requirement already satisfied: huggingface-hub>=0.24.0 in /home/work/.local/lib/python3.10/site-packages (from datasets<4.0,>=3.0->ms-swift) (0.35.1)\n",
      "Requirement already satisfied: packaging in /home/work/hd/.venv/lib/python3.10/site-packages (from datasets<4.0,>=3.0->ms-swift) (25.0)\n",
      "Requirement already satisfied: psutil in /home/work/hd/.venv/lib/python3.10/site-packages (from peft<0.18,>=0.11->ms-swift) (7.1.0)\n",
      "Requirement already satisfied: torch>=1.13.0 in /home/work/hd/.venv/lib/python3.10/site-packages (from peft<0.18,>=0.11->ms-swift) (2.8.0)\n",
      "Requirement already satisfied: psutil in /home/work/hd/.venv/lib/python3.10/site-packages (from peft<0.18,>=0.11->ms-swift) (7.1.0)\n",
      "Requirement already satisfied: torch>=1.13.0 in /home/work/hd/.venv/lib/python3.10/site-packages (from peft<0.18,>=0.11->ms-swift) (2.8.0)\n",
      "Requirement already satisfied: regex!=2019.12.17 in /home/work/hd/.venv/lib/python3.10/site-packages (from transformers<4.58,>=4.33->ms-swift) (2025.9.18)\n",
      "Requirement already satisfied: tokenizers<=0.23.0,>=0.22.0 in /home/work/.local/lib/python3.10/site-packages (from transformers<4.58,>=4.33->ms-swift) (0.22.1)\n",
      "Requirement already satisfied: regex!=2019.12.17 in /home/work/hd/.venv/lib/python3.10/site-packages (from transformers<4.58,>=4.33->ms-swift) (2025.9.18)\n",
      "Requirement already satisfied: tokenizers<=0.23.0,>=0.22.0 in /home/work/.local/lib/python3.10/site-packages (from transformers<4.58,>=4.33->ms-swift) (0.22.1)\n",
      "Requirement already satisfied: typing-extensions>=3.7.4.3 in /home/work/hd/.venv/lib/python3.10/site-packages (from huggingface-hub>=0.24.0->datasets<4.0,>=3.0->ms-swift) (4.15.0)\n",
      "Requirement already satisfied: hf-xet<2.0.0,>=1.1.3 in /home/work/.local/lib/python3.10/site-packages (from huggingface-hub>=0.24.0->datasets<4.0,>=3.0->ms-swift) (1.1.10)\n",
      "Requirement already satisfied: typing-extensions>=3.7.4.3 in /home/work/hd/.venv/lib/python3.10/site-packages (from huggingface-hub>=0.24.0->datasets<4.0,>=3.0->ms-swift) (4.15.0)\n",
      "Requirement already satisfied: hf-xet<2.0.0,>=1.1.3 in /home/work/.local/lib/python3.10/site-packages (from huggingface-hub>=0.24.0->datasets<4.0,>=3.0->ms-swift) (1.1.10)\n",
      "Requirement already satisfied: aiohappyeyeballs>=2.5.0 in /home/work/hd/.venv/lib/python3.10/site-packages (from aiohttp->ms-swift) (2.6.1)\n",
      "Requirement already satisfied: aiosignal>=1.4.0 in /home/work/hd/.venv/lib/python3.10/site-packages (from aiohttp->ms-swift) (1.4.0)\n",
      "Requirement already satisfied: async-timeout<6.0,>=4.0 in /home/work/hd/.venv/lib/python3.10/site-packages (from aiohttp->ms-swift) (5.0.1)\n",
      "Requirement already satisfied: attrs>=17.3.0 in /home/work/hd/.venv/lib/python3.10/site-packages (from aiohttp->ms-swift) (25.4.0)\n",
      "Requirement already satisfied: frozenlist>=1.1.1 in /home/work/hd/.venv/lib/python3.10/site-packages (from aiohttp->ms-swift) (1.8.0)\n",
      "Requirement already satisfied: multidict<7.0,>=4.5 in /home/work/hd/.venv/lib/python3.10/site-packages (from aiohttp->ms-swift) (6.7.0)\n",
      "Requirement already satisfied: propcache>=0.2.0 in /home/work/hd/.venv/lib/python3.10/site-packages (from aiohttp->ms-swift) (0.4.1)\n",
      "Requirement already satisfied: yarl<2.0,>=1.17.0 in /home/work/hd/.venv/lib/python3.10/site-packages (from aiohttp->ms-swift) (1.22.0)\n",
      "Requirement already satisfied: idna>=2.0 in /home/work/hd/.venv/lib/python3.10/site-packages (from yarl<2.0,>=1.17.0->aiohttp->ms-swift) (3.10)\n",
      "Requirement already satisfied: aiofiles<25.0,>=22.0 in /home/work/.local/lib/python3.10/site-packages (from gradio>=3.40.0->ms-swift) (24.1.0)\n",
      "Requirement already satisfied: anyio<5.0,>=3.0 in /home/work/.local/lib/python3.10/site-packages (from gradio>=3.40.0->ms-swift) (4.11.0)\n",
      "Requirement already satisfied: brotli>=1.1.0 in /home/work/.local/lib/python3.10/site-packages (from gradio>=3.40.0->ms-swift) (1.1.0)\n",
      "Requirement already satisfied: ffmpy in /home/work/.local/lib/python3.10/site-packages (from gradio>=3.40.0->ms-swift) (0.6.1)\n",
      "Requirement already satisfied: gradio-client==1.13.2 in /home/work/.local/lib/python3.10/site-packages (from gradio>=3.40.0->ms-swift) (1.13.2)\n",
      "Requirement already satisfied: groovy~=0.1 in /home/work/.local/lib/python3.10/site-packages (from gradio>=3.40.0->ms-swift) (0.1.2)\n",
      "Requirement already satisfied: httpx<1.0,>=0.24.1 in /home/work/hd/.venv/lib/python3.10/site-packages (from gradio>=3.40.0->ms-swift) (0.28.1)\n",
      "Requirement already satisfied: jinja2<4.0 in /home/work/hd/.venv/lib/python3.10/site-packages (from gradio>=3.40.0->ms-swift) (3.1.6)\n",
      "Requirement already satisfied: markupsafe<4.0,>=2.0 in /home/work/.local/lib/python3.10/site-packages (from gradio>=3.40.0->ms-swift) (3.0.2)\n",
      "Requirement already satisfied: orjson~=3.0 in /home/work/hd/.venv/lib/python3.10/site-packages (from gradio>=3.40.0->ms-swift) (3.11.3)\n",
      "Requirement already satisfied: pydantic<2.12,>=2.0 in /home/work/hd/.venv/lib/python3.10/site-packages (from gradio>=3.40.0->ms-swift) (2.11.10)\n",
      "Requirement already satisfied: pydub in /home/work/.local/lib/python3.10/site-packages (from gradio>=3.40.0->ms-swift) (0.25.1)\n",
      "Requirement already satisfied: python-multipart>=0.0.18 in /home/work/.local/lib/python3.10/site-packages (from gradio>=3.40.0->ms-swift) (0.0.20)\n",
      "Requirement already satisfied: ruff>=0.9.3 in /home/work/.local/lib/python3.10/site-packages (from gradio>=3.40.0->ms-swift) (0.13.2)\n",
      "Requirement already satisfied: safehttpx<0.2.0,>=0.1.6 in /home/work/.local/lib/python3.10/site-packages (from gradio>=3.40.0->ms-swift) (0.1.6)\n",
      "Requirement already satisfied: semantic-version~=2.0 in /home/work/.local/lib/python3.10/site-packages (from gradio>=3.40.0->ms-swift) (2.10.0)\n",
      "Requirement already satisfied: starlette<1.0,>=0.40.0 in /home/work/.local/lib/python3.10/site-packages (from gradio>=3.40.0->ms-swift) (0.48.0)\n",
      "Requirement already satisfied: tomlkit<0.14.0,>=0.12.0 in /home/work/.local/lib/python3.10/site-packages (from gradio>=3.40.0->ms-swift) (0.13.3)\n",
      "Requirement already satisfied: typer<1.0,>=0.12 in /home/work/hd/.venv/lib/python3.10/site-packages (from gradio>=3.40.0->ms-swift) (0.19.2)\n",
      "Requirement already satisfied: websockets<16.0,>=13.0 in /home/work/.local/lib/python3.10/site-packages (from gradio-client==1.13.2->gradio>=3.40.0->ms-swift) (15.0.1)\n",
      "Requirement already satisfied: exceptiongroup>=1.0.2 in /home/work/hd/.venv/lib/python3.10/site-packages (from anyio<5.0,>=3.0->gradio>=3.40.0->ms-swift) (1.3.0)\n",
      "Requirement already satisfied: sniffio>=1.1 in /home/work/hd/.venv/lib/python3.10/site-packages (from anyio<5.0,>=3.0->gradio>=3.40.0->ms-swift) (1.3.1)\n",
      "Requirement already satisfied: certifi in /home/work/hd/.venv/lib/python3.10/site-packages (from httpx<1.0,>=0.24.1->gradio>=3.40.0->ms-swift) (2025.10.5)\n",
      "Requirement already satisfied: httpcore==1.* in /home/work/hd/.venv/lib/python3.10/site-packages (from httpx<1.0,>=0.24.1->gradio>=3.40.0->ms-swift) (1.0.9)\n",
      "Requirement already satisfied: h11>=0.16 in /home/work/hd/.venv/lib/python3.10/site-packages (from httpcore==1.*->httpx<1.0,>=0.24.1->gradio>=3.40.0->ms-swift) (0.16.0)\n",
      "Requirement already satisfied: aiohappyeyeballs>=2.5.0 in /home/work/hd/.venv/lib/python3.10/site-packages (from aiohttp->ms-swift) (2.6.1)\n",
      "Requirement already satisfied: aiosignal>=1.4.0 in /home/work/hd/.venv/lib/python3.10/site-packages (from aiohttp->ms-swift) (1.4.0)\n",
      "Requirement already satisfied: async-timeout<6.0,>=4.0 in /home/work/hd/.venv/lib/python3.10/site-packages (from aiohttp->ms-swift) (5.0.1)\n",
      "Requirement already satisfied: attrs>=17.3.0 in /home/work/hd/.venv/lib/python3.10/site-packages (from aiohttp->ms-swift) (25.4.0)\n",
      "Requirement already satisfied: frozenlist>=1.1.1 in /home/work/hd/.venv/lib/python3.10/site-packages (from aiohttp->ms-swift) (1.8.0)\n",
      "Requirement already satisfied: multidict<7.0,>=4.5 in /home/work/hd/.venv/lib/python3.10/site-packages (from aiohttp->ms-swift) (6.7.0)\n",
      "Requirement already satisfied: propcache>=0.2.0 in /home/work/hd/.venv/lib/python3.10/site-packages (from aiohttp->ms-swift) (0.4.1)\n",
      "Requirement already satisfied: yarl<2.0,>=1.17.0 in /home/work/hd/.venv/lib/python3.10/site-packages (from aiohttp->ms-swift) (1.22.0)\n",
      "Requirement already satisfied: idna>=2.0 in /home/work/hd/.venv/lib/python3.10/site-packages (from yarl<2.0,>=1.17.0->aiohttp->ms-swift) (3.10)\n",
      "Requirement already satisfied: aiofiles<25.0,>=22.0 in /home/work/.local/lib/python3.10/site-packages (from gradio>=3.40.0->ms-swift) (24.1.0)\n",
      "Requirement already satisfied: anyio<5.0,>=3.0 in /home/work/.local/lib/python3.10/site-packages (from gradio>=3.40.0->ms-swift) (4.11.0)\n",
      "Requirement already satisfied: brotli>=1.1.0 in /home/work/.local/lib/python3.10/site-packages (from gradio>=3.40.0->ms-swift) (1.1.0)\n",
      "Requirement already satisfied: ffmpy in /home/work/.local/lib/python3.10/site-packages (from gradio>=3.40.0->ms-swift) (0.6.1)\n",
      "Requirement already satisfied: gradio-client==1.13.2 in /home/work/.local/lib/python3.10/site-packages (from gradio>=3.40.0->ms-swift) (1.13.2)\n",
      "Requirement already satisfied: groovy~=0.1 in /home/work/.local/lib/python3.10/site-packages (from gradio>=3.40.0->ms-swift) (0.1.2)\n",
      "Requirement already satisfied: httpx<1.0,>=0.24.1 in /home/work/hd/.venv/lib/python3.10/site-packages (from gradio>=3.40.0->ms-swift) (0.28.1)\n",
      "Requirement already satisfied: jinja2<4.0 in /home/work/hd/.venv/lib/python3.10/site-packages (from gradio>=3.40.0->ms-swift) (3.1.6)\n",
      "Requirement already satisfied: markupsafe<4.0,>=2.0 in /home/work/.local/lib/python3.10/site-packages (from gradio>=3.40.0->ms-swift) (3.0.2)\n",
      "Requirement already satisfied: orjson~=3.0 in /home/work/hd/.venv/lib/python3.10/site-packages (from gradio>=3.40.0->ms-swift) (3.11.3)\n",
      "Requirement already satisfied: pydantic<2.12,>=2.0 in /home/work/hd/.venv/lib/python3.10/site-packages (from gradio>=3.40.0->ms-swift) (2.11.10)\n",
      "Requirement already satisfied: pydub in /home/work/.local/lib/python3.10/site-packages (from gradio>=3.40.0->ms-swift) (0.25.1)\n",
      "Requirement already satisfied: python-multipart>=0.0.18 in /home/work/.local/lib/python3.10/site-packages (from gradio>=3.40.0->ms-swift) (0.0.20)\n",
      "Requirement already satisfied: ruff>=0.9.3 in /home/work/.local/lib/python3.10/site-packages (from gradio>=3.40.0->ms-swift) (0.13.2)\n",
      "Requirement already satisfied: safehttpx<0.2.0,>=0.1.6 in /home/work/.local/lib/python3.10/site-packages (from gradio>=3.40.0->ms-swift) (0.1.6)\n",
      "Requirement already satisfied: semantic-version~=2.0 in /home/work/.local/lib/python3.10/site-packages (from gradio>=3.40.0->ms-swift) (2.10.0)\n",
      "Requirement already satisfied: starlette<1.0,>=0.40.0 in /home/work/.local/lib/python3.10/site-packages (from gradio>=3.40.0->ms-swift) (0.48.0)\n",
      "Requirement already satisfied: tomlkit<0.14.0,>=0.12.0 in /home/work/.local/lib/python3.10/site-packages (from gradio>=3.40.0->ms-swift) (0.13.3)\n",
      "Requirement already satisfied: typer<1.0,>=0.12 in /home/work/hd/.venv/lib/python3.10/site-packages (from gradio>=3.40.0->ms-swift) (0.19.2)\n",
      "Requirement already satisfied: websockets<16.0,>=13.0 in /home/work/.local/lib/python3.10/site-packages (from gradio-client==1.13.2->gradio>=3.40.0->ms-swift) (15.0.1)\n",
      "Requirement already satisfied: exceptiongroup>=1.0.2 in /home/work/hd/.venv/lib/python3.10/site-packages (from anyio<5.0,>=3.0->gradio>=3.40.0->ms-swift) (1.3.0)\n",
      "Requirement already satisfied: sniffio>=1.1 in /home/work/hd/.venv/lib/python3.10/site-packages (from anyio<5.0,>=3.0->gradio>=3.40.0->ms-swift) (1.3.1)\n",
      "Requirement already satisfied: certifi in /home/work/hd/.venv/lib/python3.10/site-packages (from httpx<1.0,>=0.24.1->gradio>=3.40.0->ms-swift) (2025.10.5)\n",
      "Requirement already satisfied: httpcore==1.* in /home/work/hd/.venv/lib/python3.10/site-packages (from httpx<1.0,>=0.24.1->gradio>=3.40.0->ms-swift) (1.0.9)\n",
      "Requirement already satisfied: h11>=0.16 in /home/work/hd/.venv/lib/python3.10/site-packages (from httpcore==1.*->httpx<1.0,>=0.24.1->gradio>=3.40.0->ms-swift) (0.16.0)\n",
      "Requirement already satisfied: python-dateutil>=2.8.2 in /home/work/hd/.venv/lib/python3.10/site-packages (from pandas->ms-swift) (2.9.0.post0)\n",
      "Requirement already satisfied: pytz>=2020.1 in /home/work/hd/.venv/lib/python3.10/site-packages (from pandas->ms-swift) (2025.2)\n",
      "Requirement already satisfied: tzdata>=2022.7 in /home/work/hd/.venv/lib/python3.10/site-packages (from pandas->ms-swift) (2025.2)\n",
      "Requirement already satisfied: annotated-types>=0.6.0 in /home/work/hd/.venv/lib/python3.10/site-packages (from pydantic<2.12,>=2.0->gradio>=3.40.0->ms-swift) (0.7.0)\n",
      "Requirement already satisfied: pydantic-core==2.33.2 in /home/work/hd/.venv/lib/python3.10/site-packages (from pydantic<2.12,>=2.0->gradio>=3.40.0->ms-swift) (2.33.2)\n",
      "Requirement already satisfied: typing-inspection>=0.4.0 in /home/work/hd/.venv/lib/python3.10/site-packages (from pydantic<2.12,>=2.0->gradio>=3.40.0->ms-swift) (0.4.2)\n",
      "Requirement already satisfied: python-dateutil>=2.8.2 in /home/work/hd/.venv/lib/python3.10/site-packages (from pandas->ms-swift) (2.9.0.post0)\n",
      "Requirement already satisfied: pytz>=2020.1 in /home/work/hd/.venv/lib/python3.10/site-packages (from pandas->ms-swift) (2025.2)\n",
      "Requirement already satisfied: tzdata>=2022.7 in /home/work/hd/.venv/lib/python3.10/site-packages (from pandas->ms-swift) (2025.2)\n",
      "Requirement already satisfied: annotated-types>=0.6.0 in /home/work/hd/.venv/lib/python3.10/site-packages (from pydantic<2.12,>=2.0->gradio>=3.40.0->ms-swift) (0.7.0)\n",
      "Requirement already satisfied: pydantic-core==2.33.2 in /home/work/hd/.venv/lib/python3.10/site-packages (from pydantic<2.12,>=2.0->gradio>=3.40.0->ms-swift) (2.33.2)\n",
      "Requirement already satisfied: typing-inspection>=0.4.0 in /home/work/hd/.venv/lib/python3.10/site-packages (from pydantic<2.12,>=2.0->gradio>=3.40.0->ms-swift) (0.4.2)\n",
      "Requirement already satisfied: click>=8.0.0 in /home/work/hd/.venv/lib/python3.10/site-packages (from typer<1.0,>=0.12->gradio>=3.40.0->ms-swift) (8.3.0)\n",
      "Requirement already satisfied: shellingham>=1.3.0 in /home/work/hd/.venv/lib/python3.10/site-packages (from typer<1.0,>=0.12->gradio>=3.40.0->ms-swift) (1.5.4)\n",
      "Requirement already satisfied: rich>=10.11.0 in /home/work/hd/.venv/lib/python3.10/site-packages (from typer<1.0,>=0.12->gradio>=3.40.0->ms-swift) (14.2.0)\n",
      "Requirement already satisfied: click>=8.0.0 in /home/work/hd/.venv/lib/python3.10/site-packages (from typer<1.0,>=0.12->gradio>=3.40.0->ms-swift) (8.3.0)\n",
      "Requirement already satisfied: shellingham>=1.3.0 in /home/work/hd/.venv/lib/python3.10/site-packages (from typer<1.0,>=0.12->gradio>=3.40.0->ms-swift) (1.5.4)\n",
      "Requirement already satisfied: rich>=10.11.0 in /home/work/hd/.venv/lib/python3.10/site-packages (from typer<1.0,>=0.12->gradio>=3.40.0->ms-swift) (14.2.0)\n",
      "Requirement already satisfied: setuptools in /home/work/hd/.venv/lib/python3.10/site-packages (from modelscope>=1.23->ms-swift) (69.5.1)\n",
      "Requirement already satisfied: urllib3>=1.26 in /home/work/hd/.venv/lib/python3.10/site-packages (from modelscope>=1.23->ms-swift) (2.5.0)\n",
      "Requirement already satisfied: six>=1.5 in /home/work/hd/.venv/lib/python3.10/site-packages (from python-dateutil>=2.8.2->pandas->ms-swift) (1.17.0)\n",
      "Requirement already satisfied: markdown-it-py>=2.2.0 in /home/work/hd/.venv/lib/python3.10/site-packages (from rich>=10.11.0->typer<1.0,>=0.12->gradio>=3.40.0->ms-swift) (4.0.0)\n",
      "Requirement already satisfied: pygments<3.0.0,>=2.13.0 in /home/work/hd/.venv/lib/python3.10/site-packages (from rich>=10.11.0->typer<1.0,>=0.12->gradio>=3.40.0->ms-swift) (2.19.2)\n",
      "Requirement already satisfied: mdurl~=0.1 in /home/work/hd/.venv/lib/python3.10/site-packages (from markdown-it-py>=2.2.0->rich>=10.11.0->typer<1.0,>=0.12->gradio>=3.40.0->ms-swift) (0.1.2)\n",
      "Requirement already satisfied: setuptools in /home/work/hd/.venv/lib/python3.10/site-packages (from modelscope>=1.23->ms-swift) (69.5.1)\n",
      "Requirement already satisfied: urllib3>=1.26 in /home/work/hd/.venv/lib/python3.10/site-packages (from modelscope>=1.23->ms-swift) (2.5.0)\n",
      "Requirement already satisfied: six>=1.5 in /home/work/hd/.venv/lib/python3.10/site-packages (from python-dateutil>=2.8.2->pandas->ms-swift) (1.17.0)\n",
      "Requirement already satisfied: markdown-it-py>=2.2.0 in /home/work/hd/.venv/lib/python3.10/site-packages (from rich>=10.11.0->typer<1.0,>=0.12->gradio>=3.40.0->ms-swift) (4.0.0)\n",
      "Requirement already satisfied: pygments<3.0.0,>=2.13.0 in /home/work/hd/.venv/lib/python3.10/site-packages (from rich>=10.11.0->typer<1.0,>=0.12->gradio>=3.40.0->ms-swift) (2.19.2)\n",
      "Requirement already satisfied: mdurl~=0.1 in /home/work/hd/.venv/lib/python3.10/site-packages (from markdown-it-py>=2.2.0->rich>=10.11.0->typer<1.0,>=0.12->gradio>=3.40.0->ms-swift) (0.1.2)\n",
      "Requirement already satisfied: sympy>=1.13.3 in /home/work/hd/.venv/lib/python3.10/site-packages (from torch>=1.13.0->peft<0.18,>=0.11->ms-swift) (1.14.0)\n",
      "Requirement already satisfied: networkx in /home/work/hd/.venv/lib/python3.10/site-packages (from torch>=1.13.0->peft<0.18,>=0.11->ms-swift) (3.4.2)\n",
      "Requirement already satisfied: nvidia-cuda-nvrtc-cu12==12.8.93 in /home/work/hd/.venv/lib/python3.10/site-packages (from torch>=1.13.0->peft<0.18,>=0.11->ms-swift) (12.8.93)\n",
      "Requirement already satisfied: nvidia-cuda-runtime-cu12==12.8.90 in /home/work/hd/.venv/lib/python3.10/site-packages (from torch>=1.13.0->peft<0.18,>=0.11->ms-swift) (12.8.90)\n",
      "Requirement already satisfied: nvidia-cuda-cupti-cu12==12.8.90 in /home/work/hd/.venv/lib/python3.10/site-packages (from torch>=1.13.0->peft<0.18,>=0.11->ms-swift) (12.8.90)\n",
      "Requirement already satisfied: nvidia-cudnn-cu12==9.10.2.21 in /home/work/hd/.venv/lib/python3.10/site-packages (from torch>=1.13.0->peft<0.18,>=0.11->ms-swift) (9.10.2.21)\n",
      "Requirement already satisfied: nvidia-cublas-cu12==12.8.4.1 in /home/work/hd/.venv/lib/python3.10/site-packages (from torch>=1.13.0->peft<0.18,>=0.11->ms-swift) (12.8.4.1)\n",
      "Requirement already satisfied: nvidia-cufft-cu12==11.3.3.83 in /home/work/hd/.venv/lib/python3.10/site-packages (from torch>=1.13.0->peft<0.18,>=0.11->ms-swift) (11.3.3.83)\n",
      "Requirement already satisfied: nvidia-curand-cu12==10.3.9.90 in /home/work/hd/.venv/lib/python3.10/site-packages (from torch>=1.13.0->peft<0.18,>=0.11->ms-swift) (10.3.9.90)\n",
      "Requirement already satisfied: nvidia-cusolver-cu12==11.7.3.90 in /home/work/hd/.venv/lib/python3.10/site-packages (from torch>=1.13.0->peft<0.18,>=0.11->ms-swift) (11.7.3.90)\n",
      "Requirement already satisfied: nvidia-cusparse-cu12==12.5.8.93 in /home/work/hd/.venv/lib/python3.10/site-packages (from torch>=1.13.0->peft<0.18,>=0.11->ms-swift) (12.5.8.93)\n",
      "Requirement already satisfied: nvidia-cusparselt-cu12==0.7.1 in /home/work/hd/.venv/lib/python3.10/site-packages (from torch>=1.13.0->peft<0.18,>=0.11->ms-swift) (0.7.1)\n",
      "Requirement already satisfied: nvidia-nccl-cu12==2.27.3 in /home/work/hd/.venv/lib/python3.10/site-packages (from torch>=1.13.0->peft<0.18,>=0.11->ms-swift) (2.27.3)\n",
      "Requirement already satisfied: nvidia-nvtx-cu12==12.8.90 in /home/work/hd/.venv/lib/python3.10/site-packages (from torch>=1.13.0->peft<0.18,>=0.11->ms-swift) (12.8.90)\n",
      "Requirement already satisfied: nvidia-nvjitlink-cu12==12.8.93 in /home/work/hd/.venv/lib/python3.10/site-packages (from torch>=1.13.0->peft<0.18,>=0.11->ms-swift) (12.8.93)\n",
      "Requirement already satisfied: nvidia-cufile-cu12==1.13.1.3 in /home/work/hd/.venv/lib/python3.10/site-packages (from torch>=1.13.0->peft<0.18,>=0.11->ms-swift) (1.13.1.3)\n",
      "Requirement already satisfied: triton==3.4.0 in /home/work/.local/lib/python3.10/site-packages (from torch>=1.13.0->peft<0.18,>=0.11->ms-swift) (3.4.0)\n",
      "Requirement already satisfied: sympy>=1.13.3 in /home/work/hd/.venv/lib/python3.10/site-packages (from torch>=1.13.0->peft<0.18,>=0.11->ms-swift) (1.14.0)\n",
      "Requirement already satisfied: networkx in /home/work/hd/.venv/lib/python3.10/site-packages (from torch>=1.13.0->peft<0.18,>=0.11->ms-swift) (3.4.2)\n",
      "Requirement already satisfied: nvidia-cuda-nvrtc-cu12==12.8.93 in /home/work/hd/.venv/lib/python3.10/site-packages (from torch>=1.13.0->peft<0.18,>=0.11->ms-swift) (12.8.93)\n",
      "Requirement already satisfied: nvidia-cuda-runtime-cu12==12.8.90 in /home/work/hd/.venv/lib/python3.10/site-packages (from torch>=1.13.0->peft<0.18,>=0.11->ms-swift) (12.8.90)\n",
      "Requirement already satisfied: nvidia-cuda-cupti-cu12==12.8.90 in /home/work/hd/.venv/lib/python3.10/site-packages (from torch>=1.13.0->peft<0.18,>=0.11->ms-swift) (12.8.90)\n",
      "Requirement already satisfied: nvidia-cudnn-cu12==9.10.2.21 in /home/work/hd/.venv/lib/python3.10/site-packages (from torch>=1.13.0->peft<0.18,>=0.11->ms-swift) (9.10.2.21)\n",
      "Requirement already satisfied: nvidia-cublas-cu12==12.8.4.1 in /home/work/hd/.venv/lib/python3.10/site-packages (from torch>=1.13.0->peft<0.18,>=0.11->ms-swift) (12.8.4.1)\n",
      "Requirement already satisfied: nvidia-cufft-cu12==11.3.3.83 in /home/work/hd/.venv/lib/python3.10/site-packages (from torch>=1.13.0->peft<0.18,>=0.11->ms-swift) (11.3.3.83)\n",
      "Requirement already satisfied: nvidia-curand-cu12==10.3.9.90 in /home/work/hd/.venv/lib/python3.10/site-packages (from torch>=1.13.0->peft<0.18,>=0.11->ms-swift) (10.3.9.90)\n",
      "Requirement already satisfied: nvidia-cusolver-cu12==11.7.3.90 in /home/work/hd/.venv/lib/python3.10/site-packages (from torch>=1.13.0->peft<0.18,>=0.11->ms-swift) (11.7.3.90)\n",
      "Requirement already satisfied: nvidia-cusparse-cu12==12.5.8.93 in /home/work/hd/.venv/lib/python3.10/site-packages (from torch>=1.13.0->peft<0.18,>=0.11->ms-swift) (12.5.8.93)\n",
      "Requirement already satisfied: nvidia-cusparselt-cu12==0.7.1 in /home/work/hd/.venv/lib/python3.10/site-packages (from torch>=1.13.0->peft<0.18,>=0.11->ms-swift) (0.7.1)\n",
      "Requirement already satisfied: nvidia-nccl-cu12==2.27.3 in /home/work/hd/.venv/lib/python3.10/site-packages (from torch>=1.13.0->peft<0.18,>=0.11->ms-swift) (2.27.3)\n",
      "Requirement already satisfied: nvidia-nvtx-cu12==12.8.90 in /home/work/hd/.venv/lib/python3.10/site-packages (from torch>=1.13.0->peft<0.18,>=0.11->ms-swift) (12.8.90)\n",
      "Requirement already satisfied: nvidia-nvjitlink-cu12==12.8.93 in /home/work/hd/.venv/lib/python3.10/site-packages (from torch>=1.13.0->peft<0.18,>=0.11->ms-swift) (12.8.93)\n",
      "Requirement already satisfied: nvidia-cufile-cu12==1.13.1.3 in /home/work/hd/.venv/lib/python3.10/site-packages (from torch>=1.13.0->peft<0.18,>=0.11->ms-swift) (1.13.1.3)\n",
      "Requirement already satisfied: triton==3.4.0 in /home/work/.local/lib/python3.10/site-packages (from torch>=1.13.0->peft<0.18,>=0.11->ms-swift) (3.4.0)\n",
      "Requirement already satisfied: mpmath<1.4,>=1.1.0 in /home/work/hd/.venv/lib/python3.10/site-packages (from sympy>=1.13.3->torch>=1.13.0->peft<0.18,>=0.11->ms-swift) (1.3.0)\n",
      "Requirement already satisfied: future in /home/work/hd/.venv/lib/python3.10/site-packages (from binpacking->ms-swift) (1.0.0)\n",
      "Requirement already satisfied: mpmath<1.4,>=1.1.0 in /home/work/hd/.venv/lib/python3.10/site-packages (from sympy>=1.13.3->torch>=1.13.0->peft<0.18,>=0.11->ms-swift) (1.3.0)\n",
      "Requirement already satisfied: future in /home/work/hd/.venv/lib/python3.10/site-packages (from binpacking->ms-swift) (1.0.0)\n",
      "Requirement already satisfied: zipp>=3.20 in /home/work/hd/.venv/lib/python3.10/site-packages (from importlib-metadata->ms-swift) (3.23.0)\n",
      "Requirement already satisfied: contourpy>=1.0.1 in /home/work/hd/.venv/lib/python3.10/site-packages (from matplotlib->ms-swift) (1.3.2)\n",
      "Requirement already satisfied: cycler>=0.10 in /home/work/hd/.venv/lib/python3.10/site-packages (from matplotlib->ms-swift) (0.12.1)\n",
      "Requirement already satisfied: fonttools>=4.22.0 in /home/work/hd/.venv/lib/python3.10/site-packages (from matplotlib->ms-swift) (4.60.1)\n",
      "Requirement already satisfied: kiwisolver>=1.3.1 in /home/work/hd/.venv/lib/python3.10/site-packages (from matplotlib->ms-swift) (1.4.9)\n",
      "Requirement already satisfied: pyparsing>=3 in /home/work/hd/.venv/lib/python3.10/site-packages (from matplotlib->ms-swift) (3.2.5)\n",
      "Requirement already satisfied: joblib in /home/work/hd/.venv/lib/python3.10/site-packages (from nltk->ms-swift) (1.5.2)\n",
      "Requirement already satisfied: zipp>=3.20 in /home/work/hd/.venv/lib/python3.10/site-packages (from importlib-metadata->ms-swift) (3.23.0)\n",
      "Requirement already satisfied: contourpy>=1.0.1 in /home/work/hd/.venv/lib/python3.10/site-packages (from matplotlib->ms-swift) (1.3.2)\n",
      "Requirement already satisfied: cycler>=0.10 in /home/work/hd/.venv/lib/python3.10/site-packages (from matplotlib->ms-swift) (0.12.1)\n",
      "Requirement already satisfied: fonttools>=4.22.0 in /home/work/hd/.venv/lib/python3.10/site-packages (from matplotlib->ms-swift) (4.60.1)\n",
      "Requirement already satisfied: kiwisolver>=1.3.1 in /home/work/hd/.venv/lib/python3.10/site-packages (from matplotlib->ms-swift) (1.4.9)\n",
      "Requirement already satisfied: pyparsing>=3 in /home/work/hd/.venv/lib/python3.10/site-packages (from matplotlib->ms-swift) (3.2.5)\n",
      "Requirement already satisfied: joblib in /home/work/hd/.venv/lib/python3.10/site-packages (from nltk->ms-swift) (1.5.2)\n",
      "Requirement already satisfied: distro<2,>=1.7.0 in /home/work/.local/lib/python3.10/site-packages (from openai->ms-swift) (1.9.0)\n",
      "Requirement already satisfied: jiter<1,>=0.4.0 in /home/work/.local/lib/python3.10/site-packages (from openai->ms-swift) (0.11.0)\n",
      "Requirement already satisfied: crcmod>=1.7 in /home/work/.local/lib/python3.10/site-packages (from oss2->ms-swift) (1.7)\n",
      "Requirement already satisfied: pycryptodome>=3.4.7 in /home/work/.local/lib/python3.10/site-packages (from oss2->ms-swift) (3.23.0)\n",
      "Requirement already satisfied: aliyun-python-sdk-kms>=2.4.1 in /home/work/.local/lib/python3.10/site-packages (from oss2->ms-swift) (2.16.5)\n",
      "Requirement already satisfied: aliyun-python-sdk-core>=2.13.12 in /home/work/.local/lib/python3.10/site-packages (from oss2->ms-swift) (2.16.0)\n",
      "Requirement already satisfied: jmespath<1.0.0,>=0.9.3 in /home/work/hd/.venv/lib/python3.10/site-packages (from aliyun-python-sdk-core>=2.13.12->oss2->ms-swift) (0.10.0)\n",
      "Requirement already satisfied: cryptography>=3.0.0 in /home/work/hd/.venv/lib/python3.10/site-packages (from aliyun-python-sdk-core>=2.13.12->oss2->ms-swift) (46.0.2)\n",
      "Requirement already satisfied: cffi>=2.0.0 in /home/work/hd/.venv/lib/python3.10/site-packages (from cryptography>=3.0.0->aliyun-python-sdk-core>=2.13.12->oss2->ms-swift) (2.0.0)\n",
      "Requirement already satisfied: pycparser in /home/work/hd/.venv/lib/python3.10/site-packages (from cffi>=2.0.0->cryptography>=3.0.0->aliyun-python-sdk-core>=2.13.12->oss2->ms-swift) (2.23)\n",
      "Requirement already satisfied: distro<2,>=1.7.0 in /home/work/.local/lib/python3.10/site-packages (from openai->ms-swift) (1.9.0)\n",
      "Requirement already satisfied: jiter<1,>=0.4.0 in /home/work/.local/lib/python3.10/site-packages (from openai->ms-swift) (0.11.0)\n",
      "Requirement already satisfied: crcmod>=1.7 in /home/work/.local/lib/python3.10/site-packages (from oss2->ms-swift) (1.7)\n",
      "Requirement already satisfied: pycryptodome>=3.4.7 in /home/work/.local/lib/python3.10/site-packages (from oss2->ms-swift) (3.23.0)\n",
      "Requirement already satisfied: aliyun-python-sdk-kms>=2.4.1 in /home/work/.local/lib/python3.10/site-packages (from oss2->ms-swift) (2.16.5)\n",
      "Requirement already satisfied: aliyun-python-sdk-core>=2.13.12 in /home/work/.local/lib/python3.10/site-packages (from oss2->ms-swift) (2.16.0)\n",
      "Requirement already satisfied: jmespath<1.0.0,>=0.9.3 in /home/work/hd/.venv/lib/python3.10/site-packages (from aliyun-python-sdk-core>=2.13.12->oss2->ms-swift) (0.10.0)\n",
      "Requirement already satisfied: cryptography>=3.0.0 in /home/work/hd/.venv/lib/python3.10/site-packages (from aliyun-python-sdk-core>=2.13.12->oss2->ms-swift) (46.0.2)\n",
      "Requirement already satisfied: cffi>=2.0.0 in /home/work/hd/.venv/lib/python3.10/site-packages (from cryptography>=3.0.0->aliyun-python-sdk-core>=2.13.12->oss2->ms-swift) (2.0.0)\n",
      "Requirement already satisfied: pycparser in /home/work/hd/.venv/lib/python3.10/site-packages (from cffi>=2.0.0->cryptography>=3.0.0->aliyun-python-sdk-core>=2.13.12->oss2->ms-swift) (2.23)\n",
      "Requirement already satisfied: absl-py>=0.4 in /home/work/hd/.venv/lib/python3.10/site-packages (from tensorboard->ms-swift) (2.3.1)\n",
      "Requirement already satisfied: grpcio>=1.48.2 in /home/work/hd/.venv/lib/python3.10/site-packages (from tensorboard->ms-swift) (1.75.1)\n",
      "Requirement already satisfied: markdown>=2.6.8 in /home/work/hd/.venv/lib/python3.10/site-packages (from tensorboard->ms-swift) (3.9)\n",
      "Requirement already satisfied: protobuf!=4.24.0,>=3.19.6 in /home/work/hd/.venv/lib/python3.10/site-packages (from tensorboard->ms-swift) (6.32.1)\n",
      "Requirement already satisfied: tensorboard-data-server<0.8.0,>=0.7.0 in /home/work/hd/.venv/lib/python3.10/site-packages (from tensorboard->ms-swift) (0.7.2)\n",
      "Requirement already satisfied: werkzeug>=1.0.1 in /home/work/hd/.venv/lib/python3.10/site-packages (from tensorboard->ms-swift) (3.1.3)\n",
      "Requirement already satisfied: absl-py>=0.4 in /home/work/hd/.venv/lib/python3.10/site-packages (from tensorboard->ms-swift) (2.3.1)\n",
      "Requirement already satisfied: grpcio>=1.48.2 in /home/work/hd/.venv/lib/python3.10/site-packages (from tensorboard->ms-swift) (1.75.1)\n",
      "Requirement already satisfied: markdown>=2.6.8 in /home/work/hd/.venv/lib/python3.10/site-packages (from tensorboard->ms-swift) (3.9)\n",
      "Requirement already satisfied: protobuf!=4.24.0,>=3.19.6 in /home/work/hd/.venv/lib/python3.10/site-packages (from tensorboard->ms-swift) (6.32.1)\n",
      "Requirement already satisfied: tensorboard-data-server<0.8.0,>=0.7.0 in /home/work/hd/.venv/lib/python3.10/site-packages (from tensorboard->ms-swift) (0.7.2)\n",
      "Requirement already satisfied: werkzeug>=1.0.1 in /home/work/hd/.venv/lib/python3.10/site-packages (from tensorboard->ms-swift) (3.1.3)\n",
      "Note: you may need to restart the kernel to use updated packages.\n",
      "Note: you may need to restart the kernel to use updated packages.\n",
      "Looking in indexes: https://pypi.org/simple, https://pypi.ngc.nvidia.com\n",
      "Requirement already satisfied: transformers in /home/work/hd/.venv/lib/python3.10/site-packages (4.57.1)\n",
      "Looking in indexes: https://pypi.org/simple, https://pypi.ngc.nvidia.com\n",
      "Requirement already satisfied: transformers in /home/work/hd/.venv/lib/python3.10/site-packages (4.57.1)\n",
      "Requirement already satisfied: filelock in /home/work/hd/.venv/lib/python3.10/site-packages (from transformers) (3.20.0)\n",
      "Requirement already satisfied: huggingface-hub<1.0,>=0.34.0 in /home/work/.local/lib/python3.10/site-packages (from transformers) (0.35.1)\n",
      "Requirement already satisfied: numpy>=1.17 in /home/work/hd/.venv/lib/python3.10/site-packages (from transformers) (1.26.4)\n",
      "Requirement already satisfied: packaging>=20.0 in /home/work/hd/.venv/lib/python3.10/site-packages (from transformers) (25.0)\n",
      "Requirement already satisfied: pyyaml>=5.1 in /home/work/hd/.venv/lib/python3.10/site-packages (from transformers) (6.0.3)\n",
      "Requirement already satisfied: regex!=2019.12.17 in /home/work/hd/.venv/lib/python3.10/site-packages (from transformers) (2025.9.18)\n",
      "Requirement already satisfied: requests in /home/work/hd/.venv/lib/python3.10/site-packages (from transformers) (2.32.5)\n",
      "Requirement already satisfied: tokenizers<=0.23.0,>=0.22.0 in /home/work/.local/lib/python3.10/site-packages (from transformers) (0.22.1)\n",
      "Requirement already satisfied: safetensors>=0.4.3 in /home/work/hd/.venv/lib/python3.10/site-packages (from transformers) (0.6.2)\n",
      "Requirement already satisfied: tqdm>=4.27 in /home/work/hd/.venv/lib/python3.10/site-packages (from transformers) (4.67.1)\n",
      "Requirement already satisfied: filelock in /home/work/hd/.venv/lib/python3.10/site-packages (from transformers) (3.20.0)\n",
      "Requirement already satisfied: huggingface-hub<1.0,>=0.34.0 in /home/work/.local/lib/python3.10/site-packages (from transformers) (0.35.1)\n",
      "Requirement already satisfied: numpy>=1.17 in /home/work/hd/.venv/lib/python3.10/site-packages (from transformers) (1.26.4)\n",
      "Requirement already satisfied: packaging>=20.0 in /home/work/hd/.venv/lib/python3.10/site-packages (from transformers) (25.0)\n",
      "Requirement already satisfied: pyyaml>=5.1 in /home/work/hd/.venv/lib/python3.10/site-packages (from transformers) (6.0.3)\n",
      "Requirement already satisfied: regex!=2019.12.17 in /home/work/hd/.venv/lib/python3.10/site-packages (from transformers) (2025.9.18)\n",
      "Requirement already satisfied: requests in /home/work/hd/.venv/lib/python3.10/site-packages (from transformers) (2.32.5)\n",
      "Requirement already satisfied: tokenizers<=0.23.0,>=0.22.0 in /home/work/.local/lib/python3.10/site-packages (from transformers) (0.22.1)\n",
      "Requirement already satisfied: safetensors>=0.4.3 in /home/work/hd/.venv/lib/python3.10/site-packages (from transformers) (0.6.2)\n",
      "Requirement already satisfied: tqdm>=4.27 in /home/work/hd/.venv/lib/python3.10/site-packages (from transformers) (4.67.1)\n",
      "Requirement already satisfied: fsspec>=2023.5.0 in /home/work/hd/.venv/lib/python3.10/site-packages (from huggingface-hub<1.0,>=0.34.0->transformers) (2025.3.0)\n",
      "Requirement already satisfied: typing-extensions>=3.7.4.3 in /home/work/hd/.venv/lib/python3.10/site-packages (from huggingface-hub<1.0,>=0.34.0->transformers) (4.15.0)\n",
      "Requirement already satisfied: hf-xet<2.0.0,>=1.1.3 in /home/work/.local/lib/python3.10/site-packages (from huggingface-hub<1.0,>=0.34.0->transformers) (1.1.10)\n",
      "Requirement already satisfied: fsspec>=2023.5.0 in /home/work/hd/.venv/lib/python3.10/site-packages (from huggingface-hub<1.0,>=0.34.0->transformers) (2025.3.0)\n",
      "Requirement already satisfied: typing-extensions>=3.7.4.3 in /home/work/hd/.venv/lib/python3.10/site-packages (from huggingface-hub<1.0,>=0.34.0->transformers) (4.15.0)\n",
      "Requirement already satisfied: hf-xet<2.0.0,>=1.1.3 in /home/work/.local/lib/python3.10/site-packages (from huggingface-hub<1.0,>=0.34.0->transformers) (1.1.10)\n",
      "Requirement already satisfied: charset_normalizer<4,>=2 in /home/work/hd/.venv/lib/python3.10/site-packages (from requests->transformers) (3.4.3)\n",
      "Requirement already satisfied: idna<4,>=2.5 in /home/work/hd/.venv/lib/python3.10/site-packages (from requests->transformers) (3.10)\n",
      "Requirement already satisfied: urllib3<3,>=1.21.1 in /home/work/hd/.venv/lib/python3.10/site-packages (from requests->transformers) (2.5.0)\n",
      "Requirement already satisfied: certifi>=2017.4.17 in /home/work/hd/.venv/lib/python3.10/site-packages (from requests->transformers) (2025.10.5)\n",
      "Requirement already satisfied: charset_normalizer<4,>=2 in /home/work/hd/.venv/lib/python3.10/site-packages (from requests->transformers) (3.4.3)\n",
      "Requirement already satisfied: idna<4,>=2.5 in /home/work/hd/.venv/lib/python3.10/site-packages (from requests->transformers) (3.10)\n",
      "Requirement already satisfied: urllib3<3,>=1.21.1 in /home/work/hd/.venv/lib/python3.10/site-packages (from requests->transformers) (2.5.0)\n",
      "Requirement already satisfied: certifi>=2017.4.17 in /home/work/hd/.venv/lib/python3.10/site-packages (from requests->transformers) (2025.10.5)\n",
      "Note: you may need to restart the kernel to use updated packages.\n",
      "Note: you may need to restart the kernel to use updated packages.\n"
     ]
    }
   ],
   "source": [
    "%pip install ms-swift -U\n",
    "%pip install transformers -U"
   ]
  },
  {
   "cell_type": "markdown",
   "id": "709a5ea5-dccb-4128-af56-c58b8c6a4885",
   "metadata": {},
   "source": [
    "## 使用Python\n",
    "\n",
    "\n",
    "#### 训练\n",
    "导入一些库："
   ]
  },
  {
   "cell_type": "code",
   "execution_count": null,
   "id": "389e31e5-f00c-426c-875e-f85afea9040d",
   "metadata": {
    "tags": []
   },
   "outputs": [
    {
     "name": "stderr",
     "output_type": "stream",
     "text": [
      "[INFO:swift] Global seed set to 42\n"
     ]
    },
    {
     "data": {
      "text/plain": [
       "42"
      ]
     },
     "execution_count": 9,
     "metadata": {},
     "output_type": "execute_result"
    }
   ],
   "source": [
    "# 导入操作系统相关的库\n",
    "import os\n",
    "# 设置CUDA可见设备为第0块GPU\n",
    "os.environ['CUDA_VISIBLE_DEVICES'] = '0'\n",
    "\n",
    "# 从swift.llm模块导入模型和分词器加载函数\n",
    "# get_model_tokenizer: 获取模型和分词器\n",
    "# load_dataset: 加载数据集\n",
    "# get_template: 获取对话模板\n",
    "# EncodePreprocessor: 文本编码预处理器\n",
    "from swift.llm import get_model_tokenizer, load_dataset, get_template, EncodePreprocessor\n",
    "\n",
    "# 从swift.utils模块导入工具函数\n",
    "# get_logger: 获取日志记录器\n",
    "# find_all_linears: 查找模型中所有线性层（用于LoRA）\n",
    "# get_model_parameter_info: 获取模型参数信息\n",
    "# plot_images: 绘制图像\n",
    "# seed_everything: 设置随机种子确保实验可重复\n",
    "from swift.utils import get_logger, find_all_linears, get_model_parameter_info, plot_images, seed_everything\n",
    "\n",
    "# 从swift.tuners模块导入模型微调相关类\n",
    "# Swift: 微调框架主类\n",
    "# LoraConfig: LoRA（Low-Rank Adaptation）配置类\n",
    "from swift.tuners import Swift, LoraConfig\n",
    "\n",
    "# 从swift.trainers模块导入训练器和训练参数\n",
    "# Seq2SeqTrainer: 序列到序列训练器\n",
    "# Seq2SeqTrainingArguments: 序列到序列训练参数配置\n",
    "from swift.trainers import Seq2SeqTrainer, Seq2SeqTrainingArguments\n",
    "\n",
    "# 从functools导入partial函数，用于创建偏函数\n",
    "from functools import partial\n",
    "\n",
    "# 获取日志记录器实例\n",
    "logger = get_logger()\n",
    "# 设置全局随机种子为42，确保实验结果可重复\n",
    "seed_everything(42)"
   ]
  },
  {
   "cell_type": "markdown",
   "id": "fec1e09b-3718-40c6-9bc4-83f1abe8ef62",
   "metadata": {},
   "source": [
    "设置训练的超参数："
   ]
  },
  {
   "cell_type": "code",
   "execution_count": null,
   "id": "d986b80b-b4eb-43db-b714-378081a33abb",
   "metadata": {
    "tags": []
   },
   "outputs": [
    {
     "name": "stderr",
     "output_type": "stream",
     "text": [
      "[INFO:swift] output_dir: /home/work/hd/2_core/1_train/output\n"
     ]
    }
   ],
   "source": [
    "# ========== 模型配置 ==========\n",
    "# 指定要使用的模型路径或模型ID\n",
    "model_id_or_path = '/home/work/hd/_models/base/qwen3-4b-thinking'  # model_id or model_path\n",
    "# 设置系统提示语，定义AI助手的基本行为\n",
    "system = 'You are a helpful assistant.'\n",
    "# 设置训练输出目录，保存模型检查点和日志\n",
    "output_dir = 'output'\n",
    "\n",
    "# ========== 数据集配置 ==========\n",
    "# 定义训练数据集列表，#后的数字表示使用该数据集的前N条数据\n",
    "# AI-ModelScope/alpaca-gpt4-data-zh: 中文指令数据集，使用前500条\n",
    "# AI-ModelScope/alpaca-gpt4-data-en: 英文指令数据集，使用前500条  \n",
    "# swift/self-cognition: 自我认知数据集，使用前500条\n",
    "dataset = ['AI-ModelScope/alpaca-gpt4-data-zh#500', 'AI-ModelScope/alpaca-gpt4-data-en#500',\n",
    "           'swift/self-cognition#500']  # dataset_id or dataset_path\n",
    "# 数据集随机种子，确保数据划分的可重复性\n",
    "data_seed = 42\n",
    "# 输入序列的最大长度（tokens数量）\n",
    "max_length = 2048\n",
    "# 验证集划分比例，0.01表示1%的数据用作验证集\n",
    "split_dataset_ratio = 0.01  # 切分验证集\n",
    "# 数据预处理时使用的进程数，加快数据处理速度\n",
    "num_proc = 4  # 预处理的进程数\n",
    "\n",
    "# ========== 自我认知数据集个性化配置 ==========\n",
    "# 替换自我认知数据集中的填充符：{{NAME}}, {{AUTHOR}}\n",
    "# 模型的中文名和英文名，用于替换数据集中的{{NAME}}占位符\n",
    "model_name = ['精衡', 'Jingheng']  # 模型的中文名和英文名\n",
    "# 模型作者的中文名和英文名，用于替换数据集中的{{AUTHOR}}占位符\n",
    "model_author = ['叶博韬', 'YE SEVERIN']  # 模型作者的中文名和英文名\n",
    "\n",
    "# ========== LoRA微调配置 ==========\n",
    "# LoRA的秩（rank），控制低秩矩阵的维度，越小参数越少但表达能力较弱\n",
    "lora_rank = 8\n",
    "# LoRA的缩放因子，控制LoRA权重的影响程度，通常设为rank的4倍\n",
    "lora_alpha = 32\n",
    "\n",
    "# ========== 训练超参数配置 ==========\n",
    "# 创建序列到序列训练参数对象\n",
    "training_args = Seq2SeqTrainingArguments(\n",
    "    # 模型检查点和日志的输出目录\n",
    "    output_dir=output_dir,\n",
    "    # 学习率，控制参数更新的步长\n",
    "    learning_rate=1e-4,\n",
    "    # 每个GPU上的训练批次大小\n",
    "    per_device_train_batch_size=1,\n",
    "    # 每个GPU上的验证批次大小\n",
    "    per_device_eval_batch_size=1,\n",
    "    # 启用梯度检查点，节省显存但增加计算时间\n",
    "    gradient_checkpointing=True,\n",
    "    # 权重衰减系数，防止过拟合的正则化技术\n",
    "    weight_decay=0.1,\n",
    "    # 学习率调度器类型，cosine表示余弦退火调度\n",
    "    lr_scheduler_type='cosine',\n",
    "    # 预热比例，训练初期逐渐增加学习率的步数占总步数的比例\n",
    "    warmup_ratio=0.05,\n",
    "    # 日志记录工具，tensorboard用于可视化训练过程\n",
    "    report_to=['tensorboard'],\n",
    "    # 是否在第一步就开始记录日志\n",
    "    logging_first_step=True,\n",
    "    # 模型保存策略，'steps'表示按步数保存\n",
    "    save_strategy='steps',\n",
    "    # 每隔50步保存一次模型检查点\n",
    "    save_steps=50,\n",
    "    # 模型评估策略，'steps'表示按步数评估\n",
    "    eval_strategy='steps',\n",
    "    # 每隔50步进行一次模型评估\n",
    "    eval_steps=50,\n",
    "    # 梯度累积步数，实际批次大小 = per_device_train_batch_size × gradient_accumulation_steps\n",
    "    gradient_accumulation_steps=16,\n",
    "    # 训练轮数，完整遍历数据集的次数\n",
    "    num_train_epochs=1,\n",
    "    # 选择最佳模型的评估指标，'loss'表示以损失函数为准\n",
    "    metric_for_best_model='loss',\n",
    "    # 最多保存的检查点数量，超过后删除最旧的\n",
    "    save_total_limit=2,\n",
    "    # 每隔5步记录一次训练日志\n",
    "    logging_steps=5,\n",
    "    # 数据加载器使用的工作进程数\n",
    "    dataloader_num_workers=1,\n",
    "    # 数据相关的随机种子\n",
    "    data_seed=data_seed,\n",
    ")\n",
    "\n",
    "# 将输出目录转换为绝对路径\n",
    "output_dir = os.path.abspath(os.path.expanduser(output_dir))\n",
    "# 记录输出目录的绝对路径\n",
    "logger.info(f'output_dir: {output_dir}')"
   ]
  },
  {
   "cell_type": "markdown",
   "id": "ba91bf28-fec1-4a80-ba43-10b3f75699c3",
   "metadata": {},
   "source": [
    "获取模型和对话template，并将可训练的lora层加入到模型中："
   ]
  },
  {
   "cell_type": "code",
   "execution_count": null,
   "id": "ade53c46-aef5-4cde-83c4-1d7ba781a155",
   "metadata": {
    "tags": []
   },
   "outputs": [
    {
     "name": "stderr",
     "output_type": "stream",
     "text": [
      "[INFO:swift] Setting torch_dtype: torch.bfloat16\n",
      "[INFO:swift] model_kwargs: {'device_map': 'cuda:0'}\n",
      "`torch_dtype` is deprecated! Use `dtype` instead!\n",
      "[INFO:swift] model_kwargs: {'device_map': 'cuda:0'}\n",
      "`torch_dtype` is deprecated! Use `dtype` instead!\n",
      "Loading checkpoint shards: 100%|██████████| 3/3 [00:10<00:00,  3.63s/it]\n",
      "[INFO:swift] model_info: ModelInfo(model_type='qwen3_thinking', model_dir='/home/work/hd/_models/base/qwen3-4b-thinking', torch_dtype=torch.bfloat16, max_model_len=262144, quant_method=None, quant_bits=None, rope_scaling=None, is_moe_model=False, config=Qwen3Config {\n",
      "  \"architectures\": [\n",
      "    \"Qwen3ForCausalLM\"\n",
      "  ],\n",
      "  \"attention_bias\": false,\n",
      "  \"attention_dropout\": 0.0,\n",
      "  \"bos_token_id\": 151643,\n",
      "  \"dtype\": \"bfloat16\",\n",
      "  \"eos_token_id\": 151645,\n",
      "  \"head_dim\": 128,\n",
      "  \"hidden_act\": \"silu\",\n",
      "  \"hidden_size\": 2560,\n",
      "  \"initializer_range\": 0.02,\n",
      "  \"intermediate_size\": 9728,\n",
      "  \"layer_types\": [\n",
      "    \"full_attention\",\n",
      "    \"full_attention\",\n",
      "    \"full_attention\",\n",
      "    \"full_attention\",\n",
      "    \"full_attention\",\n",
      "    \"full_attention\",\n",
      "    \"full_attention\",\n",
      "    \"full_attention\",\n",
      "    \"full_attention\",\n",
      "    \"full_attention\",\n",
      "    \"full_attention\",\n",
      "    \"full_attention\",\n",
      "    \"full_attention\",\n",
      "    \"full_attention\",\n",
      "    \"full_attention\",\n",
      "    \"full_attention\",\n",
      "    \"full_attention\",\n",
      "    \"full_attention\",\n",
      "    \"full_attention\",\n",
      "    \"full_attention\",\n",
      "    \"full_attention\",\n",
      "    \"full_attention\",\n",
      "    \"full_attention\",\n",
      "    \"full_attention\",\n",
      "    \"full_attention\",\n",
      "    \"full_attention\",\n",
      "    \"full_attention\",\n",
      "    \"full_attention\",\n",
      "    \"full_attention\",\n",
      "    \"full_attention\",\n",
      "    \"full_attention\",\n",
      "    \"full_attention\",\n",
      "    \"full_attention\",\n",
      "    \"full_attention\",\n",
      "    \"full_attention\",\n",
      "    \"full_attention\"\n",
      "  ],\n",
      "  \"max_position_embeddings\": 262144,\n",
      "  \"max_window_layers\": 36,\n",
      "  \"model_type\": \"qwen3\",\n",
      "  \"num_attention_heads\": 32,\n",
      "  \"num_hidden_layers\": 36,\n",
      "  \"num_key_value_heads\": 8,\n",
      "  \"pad_token_id\": 151643,\n",
      "  \"rms_norm_eps\": 1e-06,\n",
      "  \"rope_scaling\": null,\n",
      "  \"rope_theta\": 5000000,\n",
      "  \"sliding_window\": null,\n",
      "  \"tie_word_embeddings\": true,\n",
      "  \"transformers_version\": \"4.57.1\",\n",
      "  \"use_cache\": true,\n",
      "  \"use_sliding_window\": false,\n",
      "  \"vocab_size\": 151936\n",
      "}\n",
      ", task_type='causal_lm', num_labels=None)\n",
      "[INFO:swift] default_system: 'You are a helpful assistant.'\n",
      "[INFO:swift] max_length: 2048\n",
      "[INFO:swift] response_prefix: '<think>\\n'\n",
      "[INFO:swift] agent_template: hermes\n",
      "[INFO:swift] lora_config: LoraConfig(task_type='CAUSAL_LM', peft_type=<PeftType.LORA: 'LORA'>, auto_mapping=None, base_model_name_or_path='/home/work/hd/_models/base/qwen3-4b-thinking', revision=None, inference_mode=False, r=8, target_modules={'gate_proj', 'o_proj', 'k_proj', 'up_proj', 'v_proj', 'q_proj', 'down_proj'}, exclude_modules=None, lora_alpha=32, lora_dropout=0.0, fan_in_fan_out=False, bias='none', use_rslora=False, modules_to_save=None, init_lora_weights=True, layers_to_transform=None, layers_pattern=None, rank_pattern={}, alpha_pattern={}, megatron_config=None, megatron_core='megatron.core', trainable_token_indices=None, loftq_config={}, eva_config=None, corda_config=None, use_dora=False, layer_replication=None, runtime_config=LoraRuntimeConfig(ephemeral_gpu_offload=False), lora_bias=False, lora_dtype=None, lorap_lr_ratio=None, lorap_emb_lr=1e-06)\n",
      "[INFO:swift] model: PeftModelForCausalLM(\n",
      "  (base_model): LoraModel(\n",
      "    (model): Qwen3ForCausalLM(\n",
      "      (model): Qwen3Model(\n",
      "        (embed_tokens): Embedding(151936, 2560)\n",
      "        (layers): ModuleList(\n",
      "          (0-35): 36 x Qwen3DecoderLayer(\n",
      "            (self_attn): Qwen3Attention(\n",
      "              (q_proj): lora.Linear(\n",
      "                (base_layer): Linear(in_features=2560, out_features=4096, bias=False)\n",
      "                (lora_dropout): ModuleDict(\n",
      "                  (default): Identity()\n",
      "                )\n",
      "                (lora_A): ModuleDict(\n",
      "                  (default): Linear(in_features=2560, out_features=8, bias=False)\n",
      "                )\n",
      "                (lora_B): ModuleDict(\n",
      "                  (default): Linear(in_features=8, out_features=4096, bias=False)\n",
      "                )\n",
      "                (lora_embedding_A): ParameterDict()\n",
      "                (lora_embedding_B): ParameterDict()\n",
      "                (lora_magnitude_vector): ModuleDict()\n",
      "              )\n",
      "              (k_proj): lora.Linear(\n",
      "                (base_layer): Linear(in_features=2560, out_features=1024, bias=False)\n",
      "                (lora_dropout): ModuleDict(\n",
      "                  (default): Identity()\n",
      "                )\n",
      "                (lora_A): ModuleDict(\n",
      "                  (default): Linear(in_features=2560, out_features=8, bias=False)\n",
      "                )\n",
      "                (lora_B): ModuleDict(\n",
      "                  (default): Linear(in_features=8, out_features=1024, bias=False)\n",
      "                )\n",
      "                (lora_embedding_A): ParameterDict()\n",
      "                (lora_embedding_B): ParameterDict()\n",
      "                (lora_magnitude_vector): ModuleDict()\n",
      "              )\n",
      "              (v_proj): lora.Linear(\n",
      "                (base_layer): Linear(in_features=2560, out_features=1024, bias=False)\n",
      "                (lora_dropout): ModuleDict(\n",
      "                  (default): Identity()\n",
      "                )\n",
      "                (lora_A): ModuleDict(\n",
      "                  (default): Linear(in_features=2560, out_features=8, bias=False)\n",
      "                )\n",
      "                (lora_B): ModuleDict(\n",
      "                  (default): Linear(in_features=8, out_features=1024, bias=False)\n",
      "                )\n",
      "                (lora_embedding_A): ParameterDict()\n",
      "                (lora_embedding_B): ParameterDict()\n",
      "                (lora_magnitude_vector): ModuleDict()\n",
      "              )\n",
      "              (o_proj): lora.Linear(\n",
      "                (base_layer): Linear(in_features=4096, out_features=2560, bias=False)\n",
      "                (lora_dropout): ModuleDict(\n",
      "                  (default): Identity()\n",
      "                )\n",
      "                (lora_A): ModuleDict(\n",
      "                  (default): Linear(in_features=4096, out_features=8, bias=False)\n",
      "                )\n",
      "                (lora_B): ModuleDict(\n",
      "                  (default): Linear(in_features=8, out_features=2560, bias=False)\n",
      "                )\n",
      "                (lora_embedding_A): ParameterDict()\n",
      "                (lora_embedding_B): ParameterDict()\n",
      "                (lora_magnitude_vector): ModuleDict()\n",
      "              )\n",
      "              (q_norm): Qwen3RMSNorm((128,), eps=1e-06)\n",
      "              (k_norm): Qwen3RMSNorm((128,), eps=1e-06)\n",
      "            )\n",
      "            (mlp): Qwen3MLP(\n",
      "              (gate_proj): lora.Linear(\n",
      "                (base_layer): Linear(in_features=2560, out_features=9728, bias=False)\n",
      "                (lora_dropout): ModuleDict(\n",
      "                  (default): Identity()\n",
      "                )\n",
      "                (lora_A): ModuleDict(\n",
      "                  (default): Linear(in_features=2560, out_features=8, bias=False)\n",
      "                )\n",
      "                (lora_B): ModuleDict(\n",
      "                  (default): Linear(in_features=8, out_features=9728, bias=False)\n",
      "                )\n",
      "                (lora_embedding_A): ParameterDict()\n",
      "                (lora_embedding_B): ParameterDict()\n",
      "                (lora_magnitude_vector): ModuleDict()\n",
      "              )\n",
      "              (up_proj): lora.Linear(\n",
      "                (base_layer): Linear(in_features=2560, out_features=9728, bias=False)\n",
      "                (lora_dropout): ModuleDict(\n",
      "                  (default): Identity()\n",
      "                )\n",
      "                (lora_A): ModuleDict(\n",
      "                  (default): Linear(in_features=2560, out_features=8, bias=False)\n",
      "                )\n",
      "                (lora_B): ModuleDict(\n",
      "                  (default): Linear(in_features=8, out_features=9728, bias=False)\n",
      "                )\n",
      "                (lora_embedding_A): ParameterDict()\n",
      "                (lora_embedding_B): ParameterDict()\n",
      "                (lora_magnitude_vector): ModuleDict()\n",
      "              )\n",
      "              (down_proj): lora.Linear(\n",
      "                (base_layer): Linear(in_features=9728, out_features=2560, bias=False)\n",
      "                (lora_dropout): ModuleDict(\n",
      "                  (default): Identity()\n",
      "                )\n",
      "                (lora_A): ModuleDict(\n",
      "                  (default): Linear(in_features=9728, out_features=8, bias=False)\n",
      "                )\n",
      "                (lora_B): ModuleDict(\n",
      "                  (default): Linear(in_features=8, out_features=2560, bias=False)\n",
      "                )\n",
      "                (lora_embedding_A): ParameterDict()\n",
      "                (lora_embedding_B): ParameterDict()\n",
      "                (lora_magnitude_vector): ModuleDict()\n",
      "              )\n",
      "              (act_fn): SiLUActivation()\n",
      "            )\n",
      "            (input_layernorm): Qwen3RMSNorm((2560,), eps=1e-06)\n",
      "            (post_attention_layernorm): Qwen3RMSNorm((2560,), eps=1e-06)\n",
      "          )\n",
      "        )\n",
      "        (norm): Qwen3RMSNorm((2560,), eps=1e-06)\n",
      "        (rotary_emb): Qwen3RotaryEmbedding()\n",
      "      )\n",
      "      (lm_head): Linear(in_features=2560, out_features=151936, bias=False)\n",
      "    )\n",
      "  )\n",
      ")\n",
      "[INFO:swift] model_parameter_info: PeftModelForCausalLM: 4038.9832M Params (16.5151M Trainable [0.4089%]), 0.0001M Buffers.\n"
     ]
    }
   ],
   "source": [
    "# ========== 模型和分词器加载 ==========\n",
    "# 加载指定路径的模型和分词器，指定模型类型为qwen3_thinking\n",
    "# model_type参数用于区分同一目录下的不同模型变体\n",
    "model, tokenizer = get_model_tokenizer(model_id_or_path, model_type='qwen3_thinking')\n",
    "# 打印模型的基本信息（架构、参数量等）\n",
    "logger.info(f'model_info: {model.model_info}')\n",
    "\n",
    "# ========== 对话模板配置 ==========\n",
    "# 获取模型对应的对话模板，用于格式化输入输出\n",
    "# model.model_meta.template: 模型元数据中定义的模板类型\n",
    "# default_system: 设置默认的系统提示语\n",
    "# max_length: 限制输入序列的最大长度\n",
    "template = get_template(model.model_meta.template, tokenizer, default_system=system, max_length=max_length)\n",
    "# 将模板设置为训练模式，这会影响模板的行为（如是否包含特殊token）\n",
    "template.set_mode('train')\n",
    "\n",
    "# ========== LoRA配置和模型准备 ==========\n",
    "# 查找模型中所有的线性层（Linear layers），这些层将被LoRA适配\n",
    "# LoRA只对线性层进行低秩分解，不影响其他类型的层\n",
    "target_modules = find_all_linears(model)\n",
    "\n",
    "# 创建LoRA配置对象\n",
    "lora_config = LoraConfig(\n",
    "    task_type='CAUSAL_LM',  # 任务类型：因果语言模型（自回归生成）\n",
    "    r=lora_rank,            # LoRA的秩，控制低秩矩阵的维度\n",
    "    lora_alpha=lora_alpha,  # LoRA的缩放因子，控制适配权重的影响程度\n",
    "    target_modules=target_modules  # 指定要应用LoRA的模块列表\n",
    ")\n",
    "\n",
    "# 使用Swift框架为模型添加LoRA适配器\n",
    "# 这会在原模型的线性层旁边添加低秩分解的权重矩阵\n",
    "model = Swift.prepare_model(model, lora_config)\n",
    "# 打印LoRA配置信息\n",
    "logger.info(f'lora_config: {lora_config}')\n",
    "\n",
    "# ========== 模型信息输出 ==========\n",
    "# 打印完整的模型结构（包括新添加的LoRA层）\n",
    "logger.info(f'model: {model}')\n",
    "# 获取并打印模型参数统计信息（总参数量、可训练参数量等）\n",
    "model_parameter_info = get_model_parameter_info(model)\n",
    "logger.info(f'model_parameter_info: {model_parameter_info}')"
   ]
  },
  {
   "cell_type": "markdown",
   "id": "ca2b77fe-5048-4323-9a57-c1f7a4042334",
   "metadata": {},
   "source": [
    "下载并载入数据集，并切分成训练集和验证集，\n",
    "\n",
    "然后将文本编码成tokens："
   ]
  },
  {
   "cell_type": "code",
   "execution_count": null,
   "id": "638d3513-e734-4307-b070-178a4f0128b6",
   "metadata": {
    "tags": []
   },
   "outputs": [
    {
     "name": "stderr",
     "output_type": "stream",
     "text": [
      "[INFO:swift] SelfCognitionPreprocessor has been successfully configured with name: ['精衡', 'Jingheng'], author: ['叶博韬', 'YE SEVERIN'].\n",
      "[INFO:swift] Downloading the dataset from ModelScope, dataset_id: AI-ModelScope/alpaca-gpt4-data-zh\n",
      "[INFO:swift] Downloading the dataset from ModelScope, dataset_id: AI-ModelScope/alpaca-gpt4-data-zh\n",
      "[INFO:swift] Downloading the dataset from ModelScope, dataset_id: AI-ModelScope/alpaca-gpt4-data-en\n",
      "[INFO:swift] Downloading the dataset from ModelScope, dataset_id: AI-ModelScope/alpaca-gpt4-data-en\n",
      "[INFO:swift] Downloading the dataset from ModelScope, dataset_id: swift/self-cognition\n",
      "[INFO:swift] Downloading the dataset from ModelScope, dataset_id: swift/self-cognition\n",
      "Map (num_proc=4): 100%|██████████| 108/108 [00:00<00:00, 986.64 examples/s]\n",
      "[WARNING:swift] dataset_sample:499 is greater than len(dataset):107, repeated sampling will be performed.\n",
      "\n",
      "[WARNING:swift] dataset_sample:499 is greater than len(dataset):107, repeated sampling will be performed.\n",
      "[INFO:swift] train_dataset: Dataset({\n",
      "    features: ['messages'],\n",
      "    num_rows: 1489\n",
      "})\n",
      "[INFO:swift] val_dataset: Dataset({\n",
      "    features: ['messages'],\n",
      "    num_rows: 11\n",
      "})\n",
      "[INFO:swift] train_dataset: Dataset({\n",
      "    features: ['messages'],\n",
      "    num_rows: 1489\n",
      "})\n",
      "[INFO:swift] val_dataset: Dataset({\n",
      "    features: ['messages'],\n",
      "    num_rows: 11\n",
      "})\n",
      "[INFO:swift] train_dataset[0]: {'messages': [{'role': 'user', 'content': '保持健康的三个提示。', 'loss': None}, {'role': 'assistant', 'content': '以下是保持健康的三个提示：\\n\\n1. 保持身体活动。每天做适当的身体运动，如散步、跑步或游泳，能促进心血管健康，增强肌肉力量，并有助于减少体重。\\n\\n2. 均衡饮食。每天食用新鲜的蔬菜、水果、全谷物和脂肪含量低的蛋白质食物，避免高糖、高脂肪和加工食品，以保持健康的饮食习惯。\\n\\n3. 睡眠充足。睡眠对人体健康至关重要，成年人每天应保证 7-8 小时的睡眠。良好的睡眠有助于减轻压力，促进身体恢复，并提高注意力和记忆力。', 'loss': None}]}\n",
      "[INFO:swift] train_dataset[0]: {'messages': [{'role': 'user', 'content': '保持健康的三个提示。', 'loss': None}, {'role': 'assistant', 'content': '以下是保持健康的三个提示：\\n\\n1. 保持身体活动。每天做适当的身体运动，如散步、跑步或游泳，能促进心血管健康，增强肌肉力量，并有助于减少体重。\\n\\n2. 均衡饮食。每天食用新鲜的蔬菜、水果、全谷物和脂肪含量低的蛋白质食物，避免高糖、高脂肪和加工食品，以保持健康的饮食习惯。\\n\\n3. 睡眠充足。睡眠对人体健康至关重要，成年人每天应保证 7-8 小时的睡眠。良好的睡眠有助于减轻压力，促进身体恢复，并提高注意力和记忆力。', 'loss': None}]}\n",
      "Map (num_proc=4): 100%|██████████| 1489/1489 [00:00<00:00, 1740.90 examples/s]\n",
      "\n",
      "Map (num_proc=4): 100%|██████████| 11/11 [00:00<00:00, 16.06 examples/s]\n",
      "[INFO:swift] encoded_train_dataset[0]: {'input_ids': [151644, 8948, 198, 2610, 525, 264, 10950, 17847, 13, 151645, 198, 151644, 872, 198, 100662, 108136, 101124, 45139, 1773, 151645, 198, 151644, 77091, 198, 114566, 100662, 108136, 101124, 45139, 48443, 16, 13, 220, 100662, 101099, 99600, 1773, 101922, 99190, 102618, 106214, 101079, 3837, 29524, 111261, 5373, 107530, 57191, 107140, 3837, 26232, 101902, 114718, 99722, 3837, 101138, 105640, 101102, 90395, 105767, 101940, 107235, 3407, 17, 13, 4891, 251, 229, 99967, 104579, 1773, 101922, 105086, 104838, 9370, 104451, 5373, 104618, 5373, 35987, 100203, 52853, 33108, 105349, 104982, 99285, 9370, 107151, 102153, 3837, 101153, 44636, 100443, 5373, 44636, 105349, 33108, 101130, 101083, 3837, 23031, 100662, 108136, 104579, 100784, 3407, 18, 13, 10236, 251, 94, 101519, 103119, 1773, 105552, 113357, 99722, 107940, 3837, 113459, 101922, 50511, 101907, 220, 22, 12, 23, 58230, 237, 13343, 9370, 105552, 1773, 104205, 105552, 105767, 106104, 101950, 3837, 101902, 101099, 102005, 90395, 100627, 108260, 33108, 118836, 1773, 151645], 'labels': [-100, -100, -100, -100, -100, -100, -100, -100, -100, -100, -100, -100, -100, -100, -100, -100, -100, -100, -100, -100, -100, -100, -100, -100, 114566, 100662, 108136, 101124, 45139, 48443, 16, 13, 220, 100662, 101099, 99600, 1773, 101922, 99190, 102618, 106214, 101079, 3837, 29524, 111261, 5373, 107530, 57191, 107140, 3837, 26232, 101902, 114718, 99722, 3837, 101138, 105640, 101102, 90395, 105767, 101940, 107235, 3407, 17, 13, 4891, 251, 229, 99967, 104579, 1773, 101922, 105086, 104838, 9370, 104451, 5373, 104618, 5373, 35987, 100203, 52853, 33108, 105349, 104982, 99285, 9370, 107151, 102153, 3837, 101153, 44636, 100443, 5373, 44636, 105349, 33108, 101130, 101083, 3837, 23031, 100662, 108136, 104579, 100784, 3407, 18, 13, 10236, 251, 94, 101519, 103119, 1773, 105552, 113357, 99722, 107940, 3837, 113459, 101922, 50511, 101907, 220, 22, 12, 23, 58230, 237, 13343, 9370, 105552, 1773, 104205, 105552, 105767, 106104, 101950, 3837, 101902, 101099, 102005, 90395, 100627, 108260, 33108, 118836, 1773, 151645], 'length': 149}\n",
      "[INFO:swift] [INPUT_IDS] [151644, 8948, 198, 2610, 525, 264, 10950, 17847, 13, 151645, 198, 151644, 872, 198, 100662, 108136, 101124, 45139, 1773, 151645, 198, 151644, 77091, 198, 114566, 100662, 108136, 101124, 45139, 48443, 16, 13, 220, 100662, 101099, 99600, 1773, 101922, 99190, 102618, 106214, 101079, 3837, 29524, 111261, 5373, 107530, 57191, 107140, 3837, 26232, 101902, 114718, 99722, 3837, 101138, 105640, 101102, 90395, 105767, 101940, 107235, 3407, 17, 13, 4891, 251, 229, 99967, 104579, 1773, 101922, 105086, 104838, 9370, 104451, 5373, 104618, 5373, 35987, 100203, 52853, 33108, 105349, 104982, 99285, 9370, 107151, 102153, 3837, 101153, 44636, 100443, 5373, 44636, 105349, 33108, 101130, 101083, 3837, 23031, 100662, 108136, 104579, 100784, 3407, 18, 13, 10236, 251, 94, 101519, 103119, 1773, 105552, 113357, 99722, 107940, 3837, 113459, 101922, 50511, 101907, 220, 22, 12, 23, 58230, 237, 13343, 9370, 105552, 1773, 104205, 105552, 105767, 106104, 101950, 3837, 101902, 101099, 102005, 90395, 100627, 108260, 33108, 118836, 1773, 151645]\n",
      "[INFO:swift] [INPUT] <|im_start|>system\n",
      "You are a helpful assistant.<|im_end|>\n",
      "<|im_start|>user\n",
      "保持健康的三个提示。<|im_end|>\n",
      "<|im_start|>assistant\n",
      "以下是保持健康的三个提示：\n",
      "\n",
      "1. 保持身体活动。每天做适当的身体运动，如散步、跑步或游泳，能促进心血管健康，增强肌肉力量，并有助于减少体重。\n",
      "\n",
      "2. 均衡饮食。每天食用新鲜的蔬菜、水果、全谷物和脂肪含量低的蛋白质食物，避免高糖、高脂肪和加工食品，以保持健康的饮食习惯。\n",
      "\n",
      "3. 睡眠充足。睡眠对人体健康至关重要，成年人每天应保证 7-8 小时的睡眠。良好的睡眠有助于减轻压力，促进身体恢复，并提高注意力和记忆力。<|im_end|>\n",
      "[INFO:swift] [LABELS_IDS] [-100, -100, -100, -100, -100, -100, -100, -100, -100, -100, -100, -100, -100, -100, -100, -100, -100, -100, -100, -100, -100, -100, -100, -100, 114566, 100662, 108136, 101124, 45139, 48443, 16, 13, 220, 100662, 101099, 99600, 1773, 101922, 99190, 102618, 106214, 101079, 3837, 29524, 111261, 5373, 107530, 57191, 107140, 3837, 26232, 101902, 114718, 99722, 3837, 101138, 105640, 101102, 90395, 105767, 101940, 107235, 3407, 17, 13, 4891, 251, 229, 99967, 104579, 1773, 101922, 105086, 104838, 9370, 104451, 5373, 104618, 5373, 35987, 100203, 52853, 33108, 105349, 104982, 99285, 9370, 107151, 102153, 3837, 101153, 44636, 100443, 5373, 44636, 105349, 33108, 101130, 101083, 3837, 23031, 100662, 108136, 104579, 100784, 3407, 18, 13, 10236, 251, 94, 101519, 103119, 1773, 105552, 113357, 99722, 107940, 3837, 113459, 101922, 50511, 101907, 220, 22, 12, 23, 58230, 237, 13343, 9370, 105552, 1773, 104205, 105552, 105767, 106104, 101950, 3837, 101902, 101099, 102005, 90395, 100627, 108260, 33108, 118836, 1773, 151645]\n",
      "[INFO:swift] [LABELS] [-100 * 24]以下是保持健康的三个提示：\n",
      "\n",
      "1. 保持身体活动。每天做适当的身体运动，如散步、跑步或游泳，能促进心血管健康，增强肌肉力量，并有助于减少体重。\n",
      "\n",
      "2. 均衡饮食。每天食用新鲜的蔬菜、水果、全谷物和脂肪含量低的蛋白质食物，避免高糖、高脂肪和加工食品，以保持健康的饮食习惯。\n",
      "\n",
      "3. 睡眠充足。睡眠对人体健康至关重要，成年人每天应保证 7-8 小时的睡眠。良好的睡眠有助于减轻压力，促进身体恢复，并提高注意力和记忆力。<|im_end|>\n",
      "\n",
      "[INFO:swift] encoded_train_dataset[0]: {'input_ids': [151644, 8948, 198, 2610, 525, 264, 10950, 17847, 13, 151645, 198, 151644, 872, 198, 100662, 108136, 101124, 45139, 1773, 151645, 198, 151644, 77091, 198, 114566, 100662, 108136, 101124, 45139, 48443, 16, 13, 220, 100662, 101099, 99600, 1773, 101922, 99190, 102618, 106214, 101079, 3837, 29524, 111261, 5373, 107530, 57191, 107140, 3837, 26232, 101902, 114718, 99722, 3837, 101138, 105640, 101102, 90395, 105767, 101940, 107235, 3407, 17, 13, 4891, 251, 229, 99967, 104579, 1773, 101922, 105086, 104838, 9370, 104451, 5373, 104618, 5373, 35987, 100203, 52853, 33108, 105349, 104982, 99285, 9370, 107151, 102153, 3837, 101153, 44636, 100443, 5373, 44636, 105349, 33108, 101130, 101083, 3837, 23031, 100662, 108136, 104579, 100784, 3407, 18, 13, 10236, 251, 94, 101519, 103119, 1773, 105552, 113357, 99722, 107940, 3837, 113459, 101922, 50511, 101907, 220, 22, 12, 23, 58230, 237, 13343, 9370, 105552, 1773, 104205, 105552, 105767, 106104, 101950, 3837, 101902, 101099, 102005, 90395, 100627, 108260, 33108, 118836, 1773, 151645], 'labels': [-100, -100, -100, -100, -100, -100, -100, -100, -100, -100, -100, -100, -100, -100, -100, -100, -100, -100, -100, -100, -100, -100, -100, -100, 114566, 100662, 108136, 101124, 45139, 48443, 16, 13, 220, 100662, 101099, 99600, 1773, 101922, 99190, 102618, 106214, 101079, 3837, 29524, 111261, 5373, 107530, 57191, 107140, 3837, 26232, 101902, 114718, 99722, 3837, 101138, 105640, 101102, 90395, 105767, 101940, 107235, 3407, 17, 13, 4891, 251, 229, 99967, 104579, 1773, 101922, 105086, 104838, 9370, 104451, 5373, 104618, 5373, 35987, 100203, 52853, 33108, 105349, 104982, 99285, 9370, 107151, 102153, 3837, 101153, 44636, 100443, 5373, 44636, 105349, 33108, 101130, 101083, 3837, 23031, 100662, 108136, 104579, 100784, 3407, 18, 13, 10236, 251, 94, 101519, 103119, 1773, 105552, 113357, 99722, 107940, 3837, 113459, 101922, 50511, 101907, 220, 22, 12, 23, 58230, 237, 13343, 9370, 105552, 1773, 104205, 105552, 105767, 106104, 101950, 3837, 101902, 101099, 102005, 90395, 100627, 108260, 33108, 118836, 1773, 151645], 'length': 149}\n",
      "[INFO:swift] [INPUT_IDS] [151644, 8948, 198, 2610, 525, 264, 10950, 17847, 13, 151645, 198, 151644, 872, 198, 100662, 108136, 101124, 45139, 1773, 151645, 198, 151644, 77091, 198, 114566, 100662, 108136, 101124, 45139, 48443, 16, 13, 220, 100662, 101099, 99600, 1773, 101922, 99190, 102618, 106214, 101079, 3837, 29524, 111261, 5373, 107530, 57191, 107140, 3837, 26232, 101902, 114718, 99722, 3837, 101138, 105640, 101102, 90395, 105767, 101940, 107235, 3407, 17, 13, 4891, 251, 229, 99967, 104579, 1773, 101922, 105086, 104838, 9370, 104451, 5373, 104618, 5373, 35987, 100203, 52853, 33108, 105349, 104982, 99285, 9370, 107151, 102153, 3837, 101153, 44636, 100443, 5373, 44636, 105349, 33108, 101130, 101083, 3837, 23031, 100662, 108136, 104579, 100784, 3407, 18, 13, 10236, 251, 94, 101519, 103119, 1773, 105552, 113357, 99722, 107940, 3837, 113459, 101922, 50511, 101907, 220, 22, 12, 23, 58230, 237, 13343, 9370, 105552, 1773, 104205, 105552, 105767, 106104, 101950, 3837, 101902, 101099, 102005, 90395, 100627, 108260, 33108, 118836, 1773, 151645]\n",
      "[INFO:swift] [INPUT] <|im_start|>system\n",
      "You are a helpful assistant.<|im_end|>\n",
      "<|im_start|>user\n",
      "保持健康的三个提示。<|im_end|>\n",
      "<|im_start|>assistant\n",
      "以下是保持健康的三个提示：\n",
      "\n",
      "1. 保持身体活动。每天做适当的身体运动，如散步、跑步或游泳，能促进心血管健康，增强肌肉力量，并有助于减少体重。\n",
      "\n",
      "2. 均衡饮食。每天食用新鲜的蔬菜、水果、全谷物和脂肪含量低的蛋白质食物，避免高糖、高脂肪和加工食品，以保持健康的饮食习惯。\n",
      "\n",
      "3. 睡眠充足。睡眠对人体健康至关重要，成年人每天应保证 7-8 小时的睡眠。良好的睡眠有助于减轻压力，促进身体恢复，并提高注意力和记忆力。<|im_end|>\n",
      "[INFO:swift] [LABELS_IDS] [-100, -100, -100, -100, -100, -100, -100, -100, -100, -100, -100, -100, -100, -100, -100, -100, -100, -100, -100, -100, -100, -100, -100, -100, 114566, 100662, 108136, 101124, 45139, 48443, 16, 13, 220, 100662, 101099, 99600, 1773, 101922, 99190, 102618, 106214, 101079, 3837, 29524, 111261, 5373, 107530, 57191, 107140, 3837, 26232, 101902, 114718, 99722, 3837, 101138, 105640, 101102, 90395, 105767, 101940, 107235, 3407, 17, 13, 4891, 251, 229, 99967, 104579, 1773, 101922, 105086, 104838, 9370, 104451, 5373, 104618, 5373, 35987, 100203, 52853, 33108, 105349, 104982, 99285, 9370, 107151, 102153, 3837, 101153, 44636, 100443, 5373, 44636, 105349, 33108, 101130, 101083, 3837, 23031, 100662, 108136, 104579, 100784, 3407, 18, 13, 10236, 251, 94, 101519, 103119, 1773, 105552, 113357, 99722, 107940, 3837, 113459, 101922, 50511, 101907, 220, 22, 12, 23, 58230, 237, 13343, 9370, 105552, 1773, 104205, 105552, 105767, 106104, 101950, 3837, 101902, 101099, 102005, 90395, 100627, 108260, 33108, 118836, 1773, 151645]\n",
      "[INFO:swift] [LABELS] [-100 * 24]以下是保持健康的三个提示：\n",
      "\n",
      "1. 保持身体活动。每天做适当的身体运动，如散步、跑步或游泳，能促进心血管健康，增强肌肉力量，并有助于减少体重。\n",
      "\n",
      "2. 均衡饮食。每天食用新鲜的蔬菜、水果、全谷物和脂肪含量低的蛋白质食物，避免高糖、高脂肪和加工食品，以保持健康的饮食习惯。\n",
      "\n",
      "3. 睡眠充足。睡眠对人体健康至关重要，成年人每天应保证 7-8 小时的睡眠。良好的睡眠有助于减轻压力，促进身体恢复，并提高注意力和记忆力。<|im_end|>\n"
     ]
    }
   ],
   "source": [
    "# ========== 数据集加载和划分 ==========\n",
    "# 加载指定的数据集并自动划分为训练集和验证集\n",
    "# dataset: 数据集列表，包含中文、英文指令数据和自我认知数据\n",
    "# split_dataset_ratio: 验证集比例（0.01 = 1%）\n",
    "# num_proc: 并行处理进程数，加快数据加载速度\n",
    "# model_name/model_author: 用于替换自我认知数据集中的{{NAME}}和{{AUTHOR}}占位符\n",
    "# seed: 随机种子，确保数据划分的可重复性\n",
    "train_dataset, val_dataset = load_dataset(dataset, split_dataset_ratio=split_dataset_ratio, num_proc=num_proc,\n",
    "        model_name=model_name, model_author=model_author, seed=data_seed)\n",
    "\n",
    "# ========== 数据集信息输出 ==========\n",
    "# 打印训练集的基本信息（数据条数、格式等）\n",
    "logger.info(f'train_dataset: {train_dataset}')\n",
    "# 打印验证集的基本信息\n",
    "logger.info(f'val_dataset: {val_dataset}')\n",
    "# 打印训练集第一条原始数据样本，查看数据格式和内容\n",
    "logger.info(f'train_dataset[0]: {train_dataset[0]}')\n",
    "\n",
    "# ========== 数据编码预处理 ==========\n",
    "# 创建编码预处理器，将文本转换为模型可理解的token序列\n",
    "# template: 使用之前配置的对话模板来格式化数据\n",
    "# 对训练集进行编码处理：文本 -> token IDs\n",
    "train_dataset = EncodePreprocessor(template=template)(train_dataset, num_proc=num_proc)\n",
    "# 对验证集进行编码处理：文本 -> token IDs\n",
    "val_dataset = EncodePreprocessor(template=template)(val_dataset, num_proc=num_proc)\n",
    "# 打印编码后的训练集第一条数据，查看token化后的格式\n",
    "logger.info(f'encoded_train_dataset[0]: {train_dataset[0]}')\n",
    "\n",
    "# ========== 样本展示 ==========\n",
    "# 使用模板的打印功能展示一条完整的训练样本\n",
    "# 这会显示格式化后的输入输出对，包括系统提示、用户输入、模型回答等\n",
    "template.print_inputs(train_dataset[0])"
   ]
  },
  {
   "cell_type": "markdown",
   "id": "d4f90f0e-8da2-42ab-8f5b-2a39da539a5e",
   "metadata": {},
   "source": [
    "初始化trainer并开始训练："
   ]
  },
  {
   "cell_type": "code",
   "execution_count": null,
   "id": "959b1a9c-cf0b-4985-9dac-1bc9b1d12473",
   "metadata": {
    "tags": []
   },
   "outputs": [
    {
     "name": "stderr",
     "output_type": "stream",
     "text": [
      "The model is already on multiple devices. Skipping the move to device specified in `args`.\n",
      "/usr/bin/ld: cannot find -laio: No such file or directory\n",
      "collect2: error: ld returned 1 exit status\n",
      "/usr/bin/ld: cannot find -laio: No such file or directory\n",
      "collect2: error: ld returned 1 exit status\n",
      "/usr/bin/ld: cannot find -laio: No such file or directory\n",
      "collect2: error: ld returned 1 exit status\n",
      "/usr/bin/ld: cannot find -laio: No such file or directory\n",
      "collect2: error: ld returned 1 exit status\n",
      "[INFO:swift] use_reentrant: True\n",
      "[INFO:swift] use_reentrant: True\n",
      "The tokenizer has new PAD/BOS/EOS tokens that differ from the model config and generation config. The model config and generation config were aligned accordingly, being updated with the tokenizer's values. Updated tokens: {'bos_token_id': None}.\n",
      "The tokenizer has new PAD/BOS/EOS tokens that differ from the model config and generation config. The model config and generation config were aligned accordingly, being updated with the tokenizer's values. Updated tokens: {'bos_token_id': None}.\n",
      "Train:   0%|          | 0/94 [00:00<?, ?it/s][INFO:swift] use_logits_to_keep: True\n",
      "[INFO:swift] use_logits_to_keep: True\n",
      "Train:   1%|          | 1/94 [00:06<09:48,  6.33s/it]"
     ]
    },
    {
     "name": "stdout",
     "output_type": "stream",
     "text": [
      "{'loss': 2.14067459, 'grad_norm': 2.05222344, 'learning_rate': 2e-05, 'token_acc': 0.55839002, 'epoch': 0.01, 'global_step/max_steps': '1/94', 'percentage': '1.06%', 'elapsed_time': '6s', 'remaining_time': '9m 48s', 'memory(GiB)': 8.91, 'train_speed(iter/s)': 0.157961}\n"
     ]
    },
    {
     "name": "stderr",
     "output_type": "stream",
     "text": [
      "Train:   5%|▌         | 5/94 [00:27<07:59,  5.39s/it]"
     ]
    },
    {
     "name": "stdout",
     "output_type": "stream",
     "text": [
      "{'loss': 1.93902969, 'grad_norm': 1.88177383, 'learning_rate': 0.0001, 'token_acc': 0.6216431, 'epoch': 0.05, 'global_step/max_steps': '5/94', 'percentage': '5.32%', 'elapsed_time': '27s', 'remaining_time': '8m 12s', 'memory(GiB)': 11.63, 'train_speed(iter/s)': 0.180765}\n"
     ]
    },
    {
     "name": "stderr",
     "output_type": "stream",
     "text": [
      "Train:  11%|█         | 10/94 [00:53<07:16,  5.20s/it]"
     ]
    },
    {
     "name": "stdout",
     "output_type": "stream",
     "text": [
      "{'loss': 1.5915329, 'grad_norm': 1.32298744, 'learning_rate': 9.922e-05, 'token_acc': 0.63710034, 'epoch': 0.11, 'global_step/max_steps': '10/94', 'percentage': '10.64%', 'elapsed_time': '53s', 'remaining_time': '7m 29s', 'memory(GiB)': 11.63, 'train_speed(iter/s)': 0.186835}\n"
     ]
    },
    {
     "name": "stderr",
     "output_type": "stream",
     "text": [
      "Train:  16%|█▌        | 15/94 [01:19<06:48,  5.17s/it]"
     ]
    },
    {
     "name": "stdout",
     "output_type": "stream",
     "text": [
      "{'loss': 1.40351467, 'grad_norm': 0.62444812, 'learning_rate': 9.692e-05, 'token_acc': 0.64086078, 'epoch': 0.16, 'global_step/max_steps': '15/94', 'percentage': '15.96%', 'elapsed_time': '1m 19s', 'remaining_time': '6m 57s', 'memory(GiB)': 11.63, 'train_speed(iter/s)': 0.1891}\n"
     ]
    },
    {
     "name": "stderr",
     "output_type": "stream",
     "text": [
      "Train:  21%|██▏       | 20/94 [01:44<06:19,  5.13s/it]"
     ]
    },
    {
     "name": "stdout",
     "output_type": "stream",
     "text": [
      "{'loss': 1.31425562, 'grad_norm': 0.75998163, 'learning_rate': 9.315e-05, 'token_acc': 0.65148975, 'epoch': 0.21, 'global_step/max_steps': '20/94', 'percentage': '21.28%', 'elapsed_time': '1m 44s', 'remaining_time': '6m 28s', 'memory(GiB)': 11.63, 'train_speed(iter/s)': 0.190505}\n"
     ]
    },
    {
     "name": "stderr",
     "output_type": "stream",
     "text": [
      "Train:  27%|██▋       | 25/94 [02:10<05:52,  5.11s/it]"
     ]
    },
    {
     "name": "stdout",
     "output_type": "stream",
     "text": [
      "{'loss': 1.24976692, 'grad_norm': 0.57984459, 'learning_rate': 8.805e-05, 'token_acc': 0.66701058, 'epoch': 0.27, 'global_step/max_steps': '25/94', 'percentage': '26.60%', 'elapsed_time': '2m 10s', 'remaining_time': '6m 0s', 'memory(GiB)': 11.63, 'train_speed(iter/s)': 0.191604}\n"
     ]
    },
    {
     "name": "stderr",
     "output_type": "stream",
     "text": [
      "Train:  32%|███▏      | 30/94 [02:35<05:25,  5.08s/it]"
     ]
    },
    {
     "name": "stdout",
     "output_type": "stream",
     "text": [
      "{'loss': 1.29146032, 'grad_norm': 1.02990079, 'learning_rate': 8.176e-05, 'token_acc': 0.65219378, 'epoch': 0.32, 'global_step/max_steps': '30/94', 'percentage': '31.91%', 'elapsed_time': '2m 35s', 'remaining_time': '5m 32s', 'memory(GiB)': 11.63, 'train_speed(iter/s)': 0.19244}\n"
     ]
    },
    {
     "name": "stderr",
     "output_type": "stream",
     "text": [
      "Train:  37%|███▋      | 35/94 [03:01<05:01,  5.11s/it]"
     ]
    },
    {
     "name": "stdout",
     "output_type": "stream",
     "text": [
      "{'loss': 1.39475956, 'grad_norm': 0.7445004, 'learning_rate': 7.449e-05, 'token_acc': 0.63206578, 'epoch': 0.38, 'global_step/max_steps': '35/94', 'percentage': '37.23%', 'elapsed_time': '3m 1s', 'remaining_time': '5m 5s', 'memory(GiB)': 12.48, 'train_speed(iter/s)': 0.192894}\n"
     ]
    },
    {
     "name": "stderr",
     "output_type": "stream",
     "text": [
      "Train:  43%|████▎     | 40/94 [03:26<04:33,  5.07s/it]"
     ]
    },
    {
     "name": "stdout",
     "output_type": "stream",
     "text": [
      "{'loss': 1.32103796, 'grad_norm': 0.62134475, 'learning_rate': 6.645e-05, 'token_acc': 0.66061055, 'epoch': 0.43, 'global_step/max_steps': '40/94', 'percentage': '42.55%', 'elapsed_time': '3m 26s', 'remaining_time': '4m 39s', 'memory(GiB)': 12.48, 'train_speed(iter/s)': 0.193449}\n"
     ]
    },
    {
     "name": "stderr",
     "output_type": "stream",
     "text": [
      "Train:  48%|████▊     | 45/94 [03:52<04:07,  5.06s/it]"
     ]
    },
    {
     "name": "stdout",
     "output_type": "stream",
     "text": [
      "{'loss': 1.15498009, 'grad_norm': 0.73626763, 'learning_rate': 5.791e-05, 'token_acc': 0.67277787, 'epoch': 0.48, 'global_step/max_steps': '45/94', 'percentage': '47.87%', 'elapsed_time': '3m 52s', 'remaining_time': '4m 12s', 'memory(GiB)': 12.48, 'train_speed(iter/s)': 0.193915}\n"
     ]
    },
    {
     "name": "stderr",
     "output_type": "stream",
     "text": [
      "Train:  53%|█████▎    | 50/94 [04:17<03:43,  5.07s/it]"
     ]
    },
    {
     "name": "stdout",
     "output_type": "stream",
     "text": [
      "{'loss': 1.26454611, 'grad_norm': 0.60400987, 'learning_rate': 4.912e-05, 'token_acc': 0.66360734, 'epoch': 0.54, 'global_step/max_steps': '50/94', 'percentage': '53.19%', 'elapsed_time': '4m 17s', 'remaining_time': '3m 46s', 'memory(GiB)': 12.48, 'train_speed(iter/s)': 0.194242}\n"
     ]
    },
    {
     "name": "stderr",
     "output_type": "stream",
     "text": [
      "\n",
      "Val: 100%|██████████| 11/11 [00:00<00:00, 14.12it/s]t]\n",
      "\n"
     ]
    },
    {
     "name": "stdout",
     "output_type": "stream",
     "text": [
      "{'eval_loss': 1.31140316, 'eval_runtime': 0.9237, 'eval_samples_per_second': 11.909, 'eval_steps_per_second': 11.909, 'eval_token_acc': 0.61910448, 'epoch': 0.54, 'global_step/max_steps': '50/94', 'percentage': '53.19%', 'elapsed_time': '4m 18s', 'remaining_time': '3m 47s', 'memory(GiB)': 12.48, 'train_speed(iter/s)': 0.193539}\n"
     ]
    },
    {
     "name": "stderr",
     "output_type": "stream",
     "text": [
      "[INFO:swift] Saving model checkpoint to /home/work/hd/2_core/1_train/output/checkpoint-50\n",
      "Train:  59%|█████▊    | 55/94 [04:44<03:21,  5.17s/it]"
     ]
    },
    {
     "name": "stdout",
     "output_type": "stream",
     "text": [
      "{'loss': 1.22144356, 'grad_norm': 0.72191638, 'learning_rate': 4.035e-05, 'token_acc': 0.67193468, 'epoch': 0.59, 'global_step/max_steps': '55/94', 'percentage': '58.51%', 'elapsed_time': '4m 44s', 'remaining_time': '3m 21s', 'memory(GiB)': 12.48, 'train_speed(iter/s)': 0.193402}\n"
     ]
    },
    {
     "name": "stderr",
     "output_type": "stream",
     "text": [
      "Train:  64%|██████▍   | 60/94 [05:09<02:53,  5.09s/it]"
     ]
    },
    {
     "name": "stdout",
     "output_type": "stream",
     "text": [
      "{'loss': 1.28716459, 'grad_norm': 0.49499837, 'learning_rate': 3.189e-05, 'token_acc': 0.65603003, 'epoch': 0.64, 'global_step/max_steps': '60/94', 'percentage': '63.83%', 'elapsed_time': '5m 9s', 'remaining_time': '2m 55s', 'memory(GiB)': 12.48, 'train_speed(iter/s)': 0.193708}\n"
     ]
    },
    {
     "name": "stderr",
     "output_type": "stream",
     "text": [
      "Train:  69%|██████▉   | 65/94 [05:35<02:26,  5.07s/it]"
     ]
    },
    {
     "name": "stdout",
     "output_type": "stream",
     "text": [
      "{'loss': 1.22448025, 'grad_norm': 0.60430157, 'learning_rate': 2.399e-05, 'token_acc': 0.6658502, 'epoch': 0.7, 'global_step/max_steps': '65/94', 'percentage': '69.15%', 'elapsed_time': '5m 35s', 'remaining_time': '2m 29s', 'memory(GiB)': 12.48, 'train_speed(iter/s)': 0.193984}\n"
     ]
    },
    {
     "name": "stderr",
     "output_type": "stream",
     "text": [
      "Train:  74%|███████▍  | 70/94 [06:00<02:01,  5.05s/it]"
     ]
    },
    {
     "name": "stdout",
     "output_type": "stream",
     "text": [
      "{'loss': 1.24119921, 'grad_norm': 0.78643107, 'learning_rate': 1.689e-05, 'token_acc': 0.66622604, 'epoch': 0.75, 'global_step/max_steps': '70/94', 'percentage': '74.47%', 'elapsed_time': '6m 0s', 'remaining_time': '2m 3s', 'memory(GiB)': 12.48, 'train_speed(iter/s)': 0.194264}\n"
     ]
    },
    {
     "name": "stderr",
     "output_type": "stream",
     "text": [
      "Train:  80%|███████▉  | 75/94 [06:25<01:35,  5.02s/it]"
     ]
    },
    {
     "name": "stdout",
     "output_type": "stream",
     "text": [
      "{'loss': 0.99853811, 'grad_norm': 0.81075078, 'learning_rate': 1.083e-05, 'token_acc': 0.70998237, 'epoch': 0.81, 'global_step/max_steps': '75/94', 'percentage': '79.79%', 'elapsed_time': '6m 25s', 'remaining_time': '1m 37s', 'memory(GiB)': 12.48, 'train_speed(iter/s)': 0.194608}\n"
     ]
    },
    {
     "name": "stderr",
     "output_type": "stream",
     "text": [
      "Train:  85%|████████▌ | 80/94 [06:50<01:10,  5.03s/it]"
     ]
    },
    {
     "name": "stdout",
     "output_type": "stream",
     "text": [
      "{'loss': 1.20700426, 'grad_norm': 0.68755728, 'learning_rate': 5.98e-06, 'token_acc': 0.66387205, 'epoch': 0.86, 'global_step/max_steps': '80/94', 'percentage': '85.11%', 'elapsed_time': '6m 50s', 'remaining_time': '1m 11s', 'memory(GiB)': 12.48, 'train_speed(iter/s)': 0.194837}\n"
     ]
    },
    {
     "name": "stderr",
     "output_type": "stream",
     "text": [
      "Train:  90%|█████████ | 85/94 [07:15<00:45,  5.04s/it]"
     ]
    },
    {
     "name": "stdout",
     "output_type": "stream",
     "text": [
      "{'loss': 1.14922762, 'grad_norm': 0.54358047, 'learning_rate': 2.5e-06, 'token_acc': 0.68236792, 'epoch': 0.91, 'global_step/max_steps': '85/94', 'percentage': '90.43%', 'elapsed_time': '7m 15s', 'remaining_time': '46s', 'memory(GiB)': 12.48, 'train_speed(iter/s)': 0.195036}\n"
     ]
    },
    {
     "name": "stderr",
     "output_type": "stream",
     "text": [
      "Train:  96%|█████████▌| 90/94 [07:41<00:20,  5.04s/it]"
     ]
    },
    {
     "name": "stdout",
     "output_type": "stream",
     "text": [
      "{'loss': 1.11148405, 'grad_norm': 0.80076325, 'learning_rate': 5e-07, 'token_acc': 0.6948938, 'epoch': 0.97, 'global_step/max_steps': '90/94', 'percentage': '95.74%', 'elapsed_time': '7m 41s', 'remaining_time': '20s', 'memory(GiB)': 12.48, 'train_speed(iter/s)': 0.195222}\n"
     ]
    },
    {
     "name": "stderr",
     "output_type": "stream",
     "text": [
      "Train: 100%|██████████| 94/94 [07:56<00:00,  3.63s/it]\n",
      "Val:   0%|          | 0/11 [00:00<?, ?it/s]\n",
      "Val: 100%|██████████| 11/11 [00:00<00:00, 14.59it/s]t]\n",
      "Val: 100%|██████████| 11/11 [00:00<00:00, 14.59it/s]\n"
     ]
    },
    {
     "name": "stdout",
     "output_type": "stream",
     "text": [
      "{'eval_loss': 1.2806505, 'eval_runtime': 0.8951, 'eval_samples_per_second': 12.289, 'eval_steps_per_second': 12.289, 'eval_token_acc': 0.62089552, 'epoch': 1.0, 'global_step/max_steps': '94/94', 'percentage': '100.00%', 'elapsed_time': '7m 57s', 'remaining_time': '0s', 'memory(GiB)': 12.89, 'train_speed(iter/s)': 0.196918}\n"
     ]
    },
    {
     "name": "stderr",
     "output_type": "stream",
     "text": [
      "[INFO:swift] Saving model checkpoint to /home/work/hd/2_core/1_train/output/checkpoint-94\n",
      "Train: 100%|██████████| 94/94 [07:58<00:00,  5.09s/it]\n",
      "[INFO:swift] last_model_checkpoint: /home/work/hd/2_core/1_train/output/checkpoint-94\n",
      "\n",
      "[INFO:swift] last_model_checkpoint: /home/work/hd/2_core/1_train/output/checkpoint-94\n"
     ]
    },
    {
     "name": "stdout",
     "output_type": "stream",
     "text": [
      "{'train_runtime': 478.0244, 'train_samples_per_second': 3.115, 'train_steps_per_second': 0.197, 'train_loss': 1.29666271, 'epoch': 1.0, 'global_step/max_steps': '94/94', 'percentage': '100.00%', 'elapsed_time': '7m 58s', 'remaining_time': '0s', 'memory(GiB)': 12.89, 'train_speed(iter/s)': 0.196648}\n"
     ]
    }
   ],
   "source": [
    "# ========== 模型训练前准备 ==========\n",
    "# 启用输入梯度计算，这是使用梯度检查点（gradient checkpointing）时的必要设置\n",
    "# 梯度检查点可以节省显存，但需要在前向传播时重新计算某些中间激活值\n",
    "model.enable_input_require_grads()  # 兼容gradient checkpointing\n",
    "\n",
    "# ========== 训练器初始化 ==========\n",
    "# 创建序列到序列训练器对象，配置所有训练相关组件\n",
    "trainer = Seq2SeqTrainer(\n",
    "    model=model,                        # 要训练的模型（已添加LoRA适配器）\n",
    "    args=training_args,                 # 训练参数配置（学习率、批次大小、保存策略等）\n",
    "    data_collator=template.data_collator,  # 数据整理器，用于将批次数据转换为模型输入格式\n",
    "    train_dataset=train_dataset,        # 训练数据集（已编码为token序列）\n",
    "    eval_dataset=val_dataset,           # 验证数据集（用于评估模型性能）\n",
    "    template=template,                  # 对话模板（用于格式化输入输出）\n",
    ")\n",
    "\n",
    "# ========== 开始训练 ==========\n",
    "# 启动训练过程，这将执行以下步骤：\n",
    "# 1. 前向传播：计算模型输出和损失\n",
    "# 2. 反向传播：计算梯度\n",
    "# 3. 参数更新：使用优化器更新LoRA权重\n",
    "# 4. 定期保存检查点和记录日志\n",
    "# 5. 定期在验证集上评估模型性能\n",
    "trainer.train()\n",
    "\n",
    "# ========== 训练完成后处理 ==========\n",
    "# 获取最后保存的模型检查点路径\n",
    "# trainer.state.last_model_checkpoint 包含了训练过程中最后一次保存的模型路径\n",
    "last_model_checkpoint = trainer.state.last_model_checkpoint\n",
    "# 记录最终模型检查点的位置，用于后续推理\n",
    "logger.info(f'last_model_checkpoint: {last_model_checkpoint}')"
   ]
  },
  {
   "cell_type": "markdown",
   "id": "5d178b52-fedb-4819-a463-27b624f310ff",
   "metadata": {},
   "source": [
    "可视化训练的loss。其中浅黄色线条代表真实loss值，黄色线条代表经过0.9平滑系数平滑后的loss值。\n",
    "\n",
    "你也可以使用tensorboard进行实时可视化，在命令行输入`tensorboard --logdir '{output_dir}/runs'`。"
   ]
  },
  {
   "cell_type": "code",
   "execution_count": 15,
   "id": "92274822-0837-4521-9ad9-840ec0425d85",
   "metadata": {},
   "outputs": [
    {
     "name": "stderr",
     "output_type": "stream",
     "text": [
      "[INFO:swift] images_dir: /home/work/hd/2_core/1_train/output/images\n"
     ]
    },
    {
     "data": {
      "image/png": "[encoded data removed]",
      "text/plain": [
       "<PIL.PngImagePlugin.PngImageFile image mode=RGBA size=671x451>"
      ]
     },
     "metadata": {},
     "output_type": "display_data"
    }
   ],
   "source": [
    "images_dir = os.path.join(output_dir, 'images')\n",
    "logger.info(f'images_dir: {images_dir}')\n",
    "plot_images(images_dir, training_args.logging_dir, ['train/loss'], 0.9)  # 保存图片\n",
    "\n",
    "# 展示图片\n",
    "from IPython.display import display\n",
    "from PIL import Image\n",
    "image = Image.open(os.path.join(images_dir, 'train_loss.png'))\n",
    "display(image)"
   ]
  },
  {
   "cell_type": "markdown",
   "id": "80b2216b-02a7-45f2-88ec-0d5c7b273de9",
   "metadata": {},
   "source": [
    "#### 微调后推理"
   ]
  },
  {
   "cell_type": "markdown",
   "id": "cdb6217b-2647-41f4-b6cc-32275dd829f3",
   "metadata": {},
   "source": [
    "导入一些库："
   ]
  },
  {
   "cell_type": "code",
   "execution_count": null,
   "id": "32208bd0-806e-4de5-86fc-1017366ab4f8",
   "metadata": {
    "tags": []
   },
   "outputs": [],
   "source": [
    "# ========== 推理环境设置 ==========\n",
    "# 导入操作系统相关库\n",
    "import os\n",
    "# 设置CUDA可见设备为第0块GPU（与训练时保持一致）\n",
    "os.environ['CUDA_VISIBLE_DEVICES'] = '0'\n",
    "\n",
    "# ========== 推理相关库导入 ==========\n",
    "# 从swift.llm模块导入推理相关的核心类和函数\n",
    "from swift.llm import (\n",
    "    InferEngine,      # 推理引擎基类，定义推理接口\n",
    "    InferRequest,     # 推理请求对象，封装用户输入和配置\n",
    "    PtEngine,         # PyTorch推理引擎，用于加载和运行PyTorch模型\n",
    "    RequestConfig,    # 请求配置对象，设置生成参数（温度、最大长度等）\n",
    "    get_template      # 获取对话模板函数，用于格式化输入输出\n",
    ")"
   ]
  },
  {
   "cell_type": "markdown",
   "id": "043c0967-2a57-4dc4-aaa0-62e23f53d3cd",
   "metadata": {},
   "source": [
    "设置推理的超参数："
   ]
  },
  {
   "cell_type": "code",
   "execution_count": null,
   "id": "0229fa94-1aab-4727-930d-e354bdf30986",
   "metadata": {
    "ExecutionIndicator": {
     "show": false
    },
    "execution": {
     "iopub.execute_input": "2024-12-25T16:56:32.156242Z",
     "iopub.status.busy": "2024-12-25T16:56:32.155674Z",
     "iopub.status.idle": "2024-12-25T16:56:32.159195Z",
     "shell.execute_reply": "2024-12-25T16:56:32.158698Z",
     "shell.execute_reply.started": "2024-12-25T16:56:32.156217Z"
    },
    "tags": []
   },
   "outputs": [],
   "source": [
    "# ========== LoRA适配器路径配置 ==========\n",
    "# 指定训练完成后保存的LoRA权重检查点路径\n",
    "# 注意：这里需要替换为实际的训练输出路径，格式为 output/vx-xxx/checkpoint-xxx\n",
    "last_model_checkpoint = 'output/vx-xxx/checkpoint-xxx'\n",
    "\n",
    "# ========== 基础模型配置 ==========\n",
    "# 指定基础模型的ID或路径（不是微调后的模型，而是原始的基础模型）\n",
    "# 推理时会在这个基础模型上加载LoRA适配器权重\n",
    "model_id_or_path = 'Qwen/Qwen2.5-3B-Instruct'  # model_id or model_path\n",
    "# 设置系统提示语，定义AI助手的行为特征\n",
    "system = 'You are a helpful assistant.'\n",
    "# 指定推理后端类型，'pt'表示使用PyTorch后端\n",
    "infer_backend = 'pt'\n",
    "\n",
    "# ========== 文本生成参数配置 ==========\n",
    "# 设置生成文本的最大新token数量（不包括输入部分）\n",
    "max_new_tokens = 10000\n",
    "# 设置生成温度，控制文本生成的随机性\n",
    "# temperature=0: 确定性生成，总是选择概率最高的token\n",
    "# temperature>0: 随机性生成，值越大越随机\n",
    "temperature = 0\n",
    "# 是否启用流式输出，True表示逐token生成并实时返回\n",
    "# 流式输出可以提供更好的用户体验，类似ChatGPT的打字效果\n",
    "stream = True"
   ]
  },
  {
   "cell_type": "markdown",
   "id": "da8a3bf9-c321-4f33-9251-944059537a4d",
   "metadata": {},
   "source": [
    "获取推理引擎，并载入LoRA权重："
   ]
  },
  {
   "cell_type": "code",
   "execution_count": null,
   "id": "47bcc49e-c354-48bf-b869-3db603e8d648",
   "metadata": {
    "tags": []
   },
   "outputs": [],
   "source": [
    "# ========== 推理引擎初始化 ==========\n",
    "# 创建PyTorch推理引擎，加载基础模型并应用LoRA适配器\n",
    "# model_id_or_path: 基础模型路径（原始Qwen模型）\n",
    "# adapters: LoRA适配器列表，可以加载多个适配器进行组合\n",
    "engine = PtEngine(model_id_or_path, adapters=[last_model_checkpoint])\n",
    "\n",
    "# ========== 对话模板配置 ==========\n",
    "# 获取与推理引擎模型匹配的对话模板\n",
    "# engine.model.model_meta.template: 从模型元数据中获取模板类型\n",
    "# engine.tokenizer: 使用推理引擎的分词器\n",
    "# default_system: 设置默认的系统提示语\n",
    "template = get_template(engine.model.model_meta.template, engine.tokenizer, default_system=system)\n",
    "\n",
    "# ========== 设置默认模板 ==========\n",
    "# 将配置好的模板设置为推理引擎的默认模板\n",
    "# 这样在调用engine.infer()时会自动使用此模板格式化输入输出\n",
    "# 也可以在每次调用engine.infer()时单独传入template参数\n",
    "engine.default_template = template"
   ]
  },
  {
   "cell_type": "markdown",
   "id": "71a01fa0-673d-44f3-9891-b31faaf63b6f",
   "metadata": {},
   "source": [
    "开始推理..."
   ]
  },
  {
   "cell_type": "code",
   "execution_count": null,
   "id": "8d657572-67a1-4224-ac37-6fefee54d179",
   "metadata": {
    "tags": []
   },
   "outputs": [],
   "source": [
    "query_list = [\n",
    "    'who are you?',\n",
    "    \"晚上睡不着觉怎么办？\",\n",
    "    '你是谁训练的？',\n",
    "]\n",
    "\n",
    "def infer_stream(engine: InferEngine, infer_request: InferRequest):\n",
    "    request_config = RequestConfig(max_tokens=max_new_tokens, temperature=temperature, stream=True)\n",
    "    gen_list = engine.infer([infer_request], request_config)\n",
    "    query = infer_request.messages[0]['content']\n",
    "    print(f'query: {query}\\nresponse: ', end='')\n",
    "    for resp in gen_list[0]:\n",
    "        if resp is None:\n",
    "            continue\n",
    "        print(resp_list[0].choices[0].delta.content, end='', flush=True)\n",
    "    print()\n",
    "\n",
    "def infer(engine: InferEngine, infer_request: InferRequest):\n",
    "    request_config = RequestConfig(max_tokens=max_new_tokens, temperature=temperature)\n",
    "    resp_list = engine.infer([infer_request], request_config)\n",
    "    query = infer_request.messages[0]['content']\n",
    "    response = resp_list[0].choices[0].message.content\n",
    "    print(f'query: {query}')\n",
    "    print(f'response: {response}')\n",
    "\n",
    "infer_func = infer_stream if stream else infer\n",
    "for query in query_list:\n",
    "    infer_func(engine, InferRequest(messages=[{'role': 'user', 'content': query}]))\n",
    "    print('-' * 50)"
   ]
  },
  {
   "cell_type": "markdown",
   "id": "9870a41b-d05a-49eb-ae65-c8674cfb3d65",
   "metadata": {},
   "source": [
    "## Web-UI"
   ]
  },
  {
   "cell_type": "code",
   "execution_count": null,
   "id": "cc891d97-4be5-43e0-8a39-9c805d242059",
   "metadata": {
    "ExecutionIndicator": {
     "show": true
    },
    "tags": [],
    "vscode": {
     "languageId": "shellscript"
    }
   },
   "outputs": [
    {
     "name": "stdout",
     "output_type": "stream",
     "text": [
      "实际的检查点路径: /home/work/hd/2_core/1_train/output/checkpoint-94\n",
      "[WARNING:swift] Please use `swift app`.\n",
      "run sh: `/home/work/hd/.venv/bin/python3 /home/work/hd/.venv/lib/python3.10/site-packages/swift/cli/app.py --model_id_or_path /home/work/hd/_models/base/qwen3-4b-thinking --model_type qwen3_thinking --adapters /home/work/hd/2_core/1_train/output/checkpoint-94 --temperature 0 --infer_backend pt --max_new_tokens 2048`\n",
      "[WARNING:swift] Please use `swift app`.\n",
      "run sh: `/home/work/hd/.venv/bin/python3 /home/work/hd/.venv/lib/python3.10/site-packages/swift/cli/app.py --model_id_or_path /home/work/hd/_models/base/qwen3-4b-thinking --model_type qwen3_thinking --adapters /home/work/hd/2_core/1_train/output/checkpoint-94 --temperature 0 --infer_backend pt --max_new_tokens 2048`\n",
      "[INFO:swift] Successfully registered `/home/work/hd/.venv/lib/python3.10/site-packages/swift/llm/dataset/data/dataset_info.json`.\n",
      "[INFO:swift] Successfully registered `/home/work/hd/.venv/lib/python3.10/site-packages/swift/llm/dataset/data/dataset_info.json`.\n",
      "WARNING: BNB_CUDA_VERSION=123 environment variable detected; loading libbitsandbytes_cuda123.so.\n",
      "This can be used to load a bitsandbytes version built with a CUDA version that is different from the PyTorch CUDA version.\n",
      "If this was unintended set the BNB_CUDA_VERSION variable to an empty string: export BNB_CUDA_VERSION=\n",
      "\n",
      "WARNING: BNB_CUDA_VERSION=123 environment variable detected; loading libbitsandbytes_cuda123.so.\n",
      "This can be used to load a bitsandbytes version built with a CUDA version that is different from the PyTorch CUDA version.\n",
      "If this was unintended set the BNB_CUDA_VERSION variable to an empty string: export BNB_CUDA_VERSION=\n",
      "\n",
      "[INFO:swift] rank: -1, local_rank: -1, world_size: 1, local_world_size: 1\n",
      "Traceback (most recent call last):\n",
      "  File \"/home/work/hd/.venv/lib/python3.10/site-packages/swift/cli/app.py\", line 4, in <module>\n",
      "    app_main()\n",
      "  File \"/home/work/hd/.venv/lib/python3.10/site-packages/swift/llm/app/app.py\", line 44, in app_main\n",
      "    return SwiftApp(args).main()\n",
      "  File \"/home/work/hd/.venv/lib/python3.10/site-packages/swift/llm/base.py\", line 19, in __init__\n",
      "    self.args = self._parse_args(args)\n",
      "  File \"/home/work/hd/.venv/lib/python3.10/site-packages/swift/llm/base.py\", line 31, in _parse_args\n",
      "    args, remaining_argv = parse_args(self.args_class, args)\n",
      "  File \"/home/work/hd/.venv/lib/python3.10/site-packages/swift/utils/utils.py\", line 153, in parse_args\n",
      "    args, remaining_args = parser.parse_args_into_dataclasses(argv, return_remaining_strings=True)\n",
      "  File \"/home/work/hd/.venv/lib/python3.10/site-packages/transformers/hf_argparser.py\", line 345, in parse_args_into_dataclasses\n",
      "    obj = dtype(**inputs)\n",
      "  File \"<string>\", line 155, in __init__\n",
      "  File \"/home/work/hd/.venv/lib/python3.10/site-packages/swift/llm/argument/app_args.py\", line 31, in __post_init__\n",
      "    super().__post_init__()\n",
      "  File \"/home/work/hd/.venv/lib/python3.10/site-packages/swift/llm/argument/deploy_args.py\", line 47, in __post_init__\n",
      "    super().__post_init__()\n",
      "  File \"/home/work/hd/.venv/lib/python3.10/site-packages/swift/llm/argument/infer_args.py\", line 148, in __post_init__\n",
      "    BaseArguments.__post_init__(self)\n",
      "  File \"/home/work/hd/.venv/lib/python3.10/site-packages/swift/llm/argument/base_args/base_args.py\", line 172, in __post_init__\n",
      "    ModelArguments.__post_init__(self)\n",
      "  File \"/home/work/hd/.venv/lib/python3.10/site-packages/swift/llm/argument/base_args/model_args.py\", line 180, in __post_init__\n",
      "    raise ValueError(f'Please set --model <model_id_or_path>`, model: {self.model}')\n",
      "ValueError: Please set --model <model_id_or_path>`, model: None\n",
      "[INFO:swift] rank: -1, local_rank: -1, world_size: 1, local_world_size: 1\n",
      "Traceback (most recent call last):\n",
      "  File \"/home/work/hd/.venv/lib/python3.10/site-packages/swift/cli/app.py\", line 4, in <module>\n",
      "    app_main()\n",
      "  File \"/home/work/hd/.venv/lib/python3.10/site-packages/swift/llm/app/app.py\", line 44, in app_main\n",
      "    return SwiftApp(args).main()\n",
      "  File \"/home/work/hd/.venv/lib/python3.10/site-packages/swift/llm/base.py\", line 19, in __init__\n",
      "    self.args = self._parse_args(args)\n",
      "  File \"/home/work/hd/.venv/lib/python3.10/site-packages/swift/llm/base.py\", line 31, in _parse_args\n",
      "    args, remaining_argv = parse_args(self.args_class, args)\n",
      "  File \"/home/work/hd/.venv/lib/python3.10/site-packages/swift/utils/utils.py\", line 153, in parse_args\n",
      "    args, remaining_args = parser.parse_args_into_dataclasses(argv, return_remaining_strings=True)\n",
      "  File \"/home/work/hd/.venv/lib/python3.10/site-packages/transformers/hf_argparser.py\", line 345, in parse_args_into_dataclasses\n",
      "    obj = dtype(**inputs)\n",
      "  File \"<string>\", line 155, in __init__\n",
      "  File \"/home/work/hd/.venv/lib/python3.10/site-packages/swift/llm/argument/app_args.py\", line 31, in __post_init__\n",
      "    super().__post_init__()\n",
      "  File \"/home/work/hd/.venv/lib/python3.10/site-packages/swift/llm/argument/deploy_args.py\", line 47, in __post_init__\n",
      "    super().__post_init__()\n",
      "  File \"/home/work/hd/.venv/lib/python3.10/site-packages/swift/llm/argument/infer_args.py\", line 148, in __post_init__\n",
      "    BaseArguments.__post_init__(self)\n",
      "  File \"/home/work/hd/.venv/lib/python3.10/site-packages/swift/llm/argument/base_args/base_args.py\", line 172, in __post_init__\n",
      "    ModelArguments.__post_init__(self)\n",
      "  File \"/home/work/hd/.venv/lib/python3.10/site-packages/swift/llm/argument/base_args/model_args.py\", line 180, in __post_init__\n",
      "    raise ValueError(f'Please set --model <model_id_or_path>`, model: {self.model}')\n",
      "ValueError: Please set --model <model_id_or_path>`, model: None\n"
     ]
    }
   ],
   "source": [
    "# ========== Web-UI启动命令 ==========\n",
    "# 使用训练好的LoRA适配器启动Web界面\n",
    "# 注意：需要将 output/vx-xxx/checkpoint-xxx 替换为实际的检查点路径\n",
    "# 可以通过运行 last_model_checkpoint 变量查看实际路径\n",
    "\n",
    "# 方法1：使用实际的检查点路径（推荐）\n",
    "# 先查看实际的检查点路径\n",
    "print(f\"实际的检查点路径: {last_model_checkpoint}\")\n",
    "\n",
    "# 方法2：启动Web-UI（需要替换为实际路径）\n",
    "!CUDA_VISIBLE_DEVICES=0 \\\n",
    "swift web-ui \\\n",
    "    --model_id_or_path /home/work/hd/_models/base/qwen3-4b-thinking \\\n",
    "    --model_type qwen3_thinking \\\n",
    "    --adapters {last_model_checkpoint} \\\n",
    "    --temperature 0 \\\n",
    "    --infer_backend pt \\\n",
    "    --max_new_tokens 2048"
   ]
  }
 ],
 "metadata": {
  "kernelspec": {
   "display_name": ".venv",
   "language": "python",
   "name": "python3"
  },
  "language_info": {
   "codemirror_mode": {
    "name": "ipython",
    "version": 3
   },
   "file_extension": ".py",
   "mimetype": "text/x-python",
   "name": "python",
   "nbconvert_exporter": "python",
   "pygments_lexer": "ipython3",
   "version": "3.10.12"
  }
 },
 "nbformat": 4,
 "nbformat_minor": 5
}
