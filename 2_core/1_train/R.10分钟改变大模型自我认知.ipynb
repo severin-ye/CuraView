{
 "cells": [
  {
   "cell_type": "markdown",
   "id": "7284536d-0f0e-40f2-a12c-469ff5c2f3d4",
   "metadata": {},
   "source": [
    "# 10分钟改变大模型自我认知，定制“专属自己”的聊天机器人\n",
    "\n",
    "我们使用ms-swift对Qwen2.5-3B-Instruct进行自我认知微调。\n",
    "\n",
    "- 模型：https://modelscope.cn/models/Qwen/Qwen2.5-3B-Instruct\n",
    "\n",
    "- 自我认知数据集：https://modelscope.cn/datasets/swift/self-cognition\n",
    "\n",
    "- 训练框架：https://github.com/modelscope/ms-swift.git\n",
    "\n",
    "- 实验环境：A10、3090等（需显存资源12GB）\n",
    "\n",
    "这里给出了两种训练和推理的方式，分别是：使用命令行界面和使用Python。\n",
    "\n",
    "- 使用命令行界面：帮助开发者更快的将训练和推理跑起来。\n",
    "\n",
    "- 使用Python：帮助开发者了解训练和推理的一些细节，这对定制训练过程有很大帮助。\n",
    "\n",
    "准备好了吗？让我们开始这段旅程叭……\n",
    "\n",
    "## 安装 ms-swift"
   ]
  },
  {
   "cell_type": "code",
   "execution_count": 4,
   "id": "30e80a62-28b5-481b-918f-797125eaeb25",
   "metadata": {
    "tags": [],
    "vscode": {
     "languageId": "powershell"
    }
   },
   "outputs": [
    {
     "name": "stdout",
     "output_type": "stream",
     "text": [
      "Looking in indexes: https://pypi.org/simple, https://pypi.ngc.nvidia.com\n",
      "Requirement already satisfied: ms-swift in /home/work/hd/.venv/lib/python3.10/site-packages (3.9.0)\n",
      "Requirement already satisfied: accelerate in /home/work/.local/lib/python3.10/site-packages (from ms-swift) (1.10.1)\n",
      "Requirement already satisfied: addict in /home/work/.local/lib/python3.10/site-packages (from ms-swift) (2.4.0)\n",
      "Requirement already satisfied: aiohttp in /home/work/hd/.venv/lib/python3.10/site-packages (from ms-swift) (3.13.0)\n",
      "Requirement already satisfied: attrdict in /home/work/.local/lib/python3.10/site-packages (from ms-swift) (2.0.1)\n",
      "Requirement already satisfied: binpacking in /home/work/.local/lib/python3.10/site-packages (from ms-swift) (1.5.2)\n",
      "Requirement already satisfied: charset-normalizer in /home/work/hd/.venv/lib/python3.10/site-packages (from ms-swift) (3.4.3)\n",
      "Requirement already satisfied: cpm-kernels in /home/work/.local/lib/python3.10/site-packages (from ms-swift) (1.0.11)\n",
      "Requirement already satisfied: dacite in /home/work/hd/.venv/lib/python3.10/site-packages (from ms-swift) (1.9.2)\n",
      "Requirement already satisfied: datasets<4.0,>=3.0 in /home/work/hd/.venv/lib/python3.10/site-packages (from ms-swift) (3.6.0)\n",
      "Requirement already satisfied: einops in /home/work/hd/.venv/lib/python3.10/site-packages (from ms-swift) (0.8.1)\n",
      "Requirement already satisfied: fastapi in /home/work/.local/lib/python3.10/site-packages (from ms-swift) (0.117.1)\n",
      "Requirement already satisfied: gradio>=3.40.0 in /home/work/.local/lib/python3.10/site-packages (from ms-swift) (5.47.1)\n",
      "Requirement already satisfied: importlib-metadata in /home/work/hd/.venv/lib/python3.10/site-packages (from ms-swift) (8.7.0)\n",
      "Requirement already satisfied: jieba in /home/work/.local/lib/python3.10/site-packages (from ms-swift) (0.42.1)\n",
      "Requirement already satisfied: json-repair in /home/work/hd/.venv/lib/python3.10/site-packages (from ms-swift) (0.52.0)\n",
      "Requirement already satisfied: matplotlib in /home/work/hd/.venv/lib/python3.10/site-packages (from ms-swift) (3.10.7)\n",
      "Requirement already satisfied: modelscope>=1.23 in /home/work/.local/lib/python3.10/site-packages (from ms-swift) (1.30.0)\n",
      "Requirement already satisfied: nltk in /home/work/hd/.venv/lib/python3.10/site-packages (from ms-swift) (3.9.2)\n",
      "Requirement already satisfied: numpy in /home/work/hd/.venv/lib/python3.10/site-packages (from ms-swift) (1.26.4)\n",
      "Requirement already satisfied: openai in /home/work/.local/lib/python3.10/site-packages (from ms-swift) (1.109.1)\n",
      "Requirement already satisfied: oss2 in /home/work/.local/lib/python3.10/site-packages (from ms-swift) (2.19.1)\n",
      "Requirement already satisfied: pandas in /home/work/hd/.venv/lib/python3.10/site-packages (from ms-swift) (2.3.3)\n",
      "Requirement already satisfied: peft<0.18,>=0.11 in /home/work/hd/.venv/lib/python3.10/site-packages (from ms-swift) (0.15.2)\n",
      "Requirement already satisfied: pillow in /home/work/hd/.venv/lib/python3.10/site-packages (from ms-swift) (11.3.0)\n",
      "Requirement already satisfied: PyYAML>=5.4 in /home/work/hd/.venv/lib/python3.10/site-packages (from ms-swift) (6.0.3)\n",
      "Requirement already satisfied: requests in /home/work/hd/.venv/lib/python3.10/site-packages (from ms-swift) (2.32.5)\n",
      "Requirement already satisfied: rouge in /home/work/.local/lib/python3.10/site-packages (from ms-swift) (1.0.1)\n",
      "Requirement already satisfied: safetensors in /home/work/hd/.venv/lib/python3.10/site-packages (from ms-swift) (0.6.2)\n",
      "Requirement already satisfied: scipy in /home/work/hd/.venv/lib/python3.10/site-packages (from ms-swift) (1.13.1)\n",
      "Requirement already satisfied: sentencepiece in /home/work/hd/.venv/lib/python3.10/site-packages (from ms-swift) (0.2.1)\n",
      "Requirement already satisfied: simplejson>=3.3.0 in /home/work/hd/.venv/lib/python3.10/site-packages (from ms-swift) (3.20.2)\n",
      "Requirement already satisfied: sortedcontainers>=1.5.9 in /home/work/hd/.venv/lib/python3.10/site-packages (from ms-swift) (2.4.0)\n",
      "Requirement already satisfied: tensorboard in /home/work/hd/.venv/lib/python3.10/site-packages (from ms-swift) (2.20.0)\n",
      "Requirement already satisfied: tiktoken in /home/work/.local/lib/python3.10/site-packages (from ms-swift) (0.11.0)\n",
      "Requirement already satisfied: tqdm in /home/work/hd/.venv/lib/python3.10/site-packages (from ms-swift) (4.67.1)\n",
      "Requirement already satisfied: transformers<4.58,>=4.33 in /home/work/hd/.venv/lib/python3.10/site-packages (from ms-swift) (4.57.1)\n",
      "Requirement already satisfied: transformers-stream-generator in /home/work/.local/lib/python3.10/site-packages (from ms-swift) (0.0.5)\n",
      "Requirement already satisfied: trl<0.24,>=0.15 in /home/work/.local/lib/python3.10/site-packages (from ms-swift) (0.20.0)\n",
      "Requirement already satisfied: uvicorn in /home/work/.local/lib/python3.10/site-packages (from ms-swift) (0.37.0)\n",
      "Requirement already satisfied: zstandard in /home/work/.local/lib/python3.10/site-packages (from ms-swift) (0.25.0)\n",
      "Requirement already satisfied: filelock in /home/work/hd/.venv/lib/python3.10/site-packages (from datasets<4.0,>=3.0->ms-swift) (3.20.0)\n",
      "Requirement already satisfied: pyarrow>=15.0.0 in /home/work/hd/.venv/lib/python3.10/site-packages (from datasets<4.0,>=3.0->ms-swift) (21.0.0)\n",
      "Requirement already satisfied: dill<0.3.9,>=0.3.0 in /home/work/hd/.venv/lib/python3.10/site-packages (from datasets<4.0,>=3.0->ms-swift) (0.3.8)\n",
      "Requirement already satisfied: xxhash in /home/work/hd/.venv/lib/python3.10/site-packages (from datasets<4.0,>=3.0->ms-swift) (3.6.0)\n",
      "Requirement already satisfied: multiprocess<0.70.17 in /home/work/hd/.venv/lib/python3.10/site-packages (from datasets<4.0,>=3.0->ms-swift) (0.70.16)\n",
      "Requirement already satisfied: fsspec<=2025.3.0,>=2023.1.0 in /home/work/hd/.venv/lib/python3.10/site-packages (from fsspec[http]<=2025.3.0,>=2023.1.0->datasets<4.0,>=3.0->ms-swift) (2025.3.0)\n",
      "Requirement already satisfied: huggingface-hub>=0.24.0 in /home/work/.local/lib/python3.10/site-packages (from datasets<4.0,>=3.0->ms-swift) (0.35.1)\n",
      "Requirement already satisfied: packaging in /home/work/hd/.venv/lib/python3.10/site-packages (from datasets<4.0,>=3.0->ms-swift) (25.0)\n",
      "Requirement already satisfied: psutil in /home/work/hd/.venv/lib/python3.10/site-packages (from peft<0.18,>=0.11->ms-swift) (7.1.0)\n",
      "Requirement already satisfied: torch>=1.13.0 in /home/work/hd/.venv/lib/python3.10/site-packages (from peft<0.18,>=0.11->ms-swift) (2.8.0)\n",
      "Requirement already satisfied: regex!=2019.12.17 in /home/work/hd/.venv/lib/python3.10/site-packages (from transformers<4.58,>=4.33->ms-swift) (2025.9.18)\n",
      "Requirement already satisfied: tokenizers<=0.23.0,>=0.22.0 in /home/work/.local/lib/python3.10/site-packages (from transformers<4.58,>=4.33->ms-swift) (0.22.1)\n",
      "Requirement already satisfied: typing-extensions>=3.7.4.3 in /home/work/hd/.venv/lib/python3.10/site-packages (from huggingface-hub>=0.24.0->datasets<4.0,>=3.0->ms-swift) (4.15.0)\n",
      "Requirement already satisfied: hf-xet<2.0.0,>=1.1.3 in /home/work/.local/lib/python3.10/site-packages (from huggingface-hub>=0.24.0->datasets<4.0,>=3.0->ms-swift) (1.1.10)\n",
      "Requirement already satisfied: aiohappyeyeballs>=2.5.0 in /home/work/hd/.venv/lib/python3.10/site-packages (from aiohttp->ms-swift) (2.6.1)\n",
      "Requirement already satisfied: aiosignal>=1.4.0 in /home/work/hd/.venv/lib/python3.10/site-packages (from aiohttp->ms-swift) (1.4.0)\n",
      "Requirement already satisfied: async-timeout<6.0,>=4.0 in /home/work/hd/.venv/lib/python3.10/site-packages (from aiohttp->ms-swift) (5.0.1)\n",
      "Requirement already satisfied: attrs>=17.3.0 in /home/work/hd/.venv/lib/python3.10/site-packages (from aiohttp->ms-swift) (25.4.0)\n",
      "Requirement already satisfied: frozenlist>=1.1.1 in /home/work/hd/.venv/lib/python3.10/site-packages (from aiohttp->ms-swift) (1.8.0)\n",
      "Requirement already satisfied: multidict<7.0,>=4.5 in /home/work/hd/.venv/lib/python3.10/site-packages (from aiohttp->ms-swift) (6.7.0)\n",
      "Requirement already satisfied: propcache>=0.2.0 in /home/work/hd/.venv/lib/python3.10/site-packages (from aiohttp->ms-swift) (0.4.1)\n",
      "Requirement already satisfied: yarl<2.0,>=1.17.0 in /home/work/hd/.venv/lib/python3.10/site-packages (from aiohttp->ms-swift) (1.22.0)\n",
      "Requirement already satisfied: idna>=2.0 in /home/work/hd/.venv/lib/python3.10/site-packages (from yarl<2.0,>=1.17.0->aiohttp->ms-swift) (3.10)\n",
      "Requirement already satisfied: aiofiles<25.0,>=22.0 in /home/work/.local/lib/python3.10/site-packages (from gradio>=3.40.0->ms-swift) (24.1.0)\n",
      "Requirement already satisfied: anyio<5.0,>=3.0 in /home/work/.local/lib/python3.10/site-packages (from gradio>=3.40.0->ms-swift) (4.11.0)\n",
      "Requirement already satisfied: brotli>=1.1.0 in /home/work/.local/lib/python3.10/site-packages (from gradio>=3.40.0->ms-swift) (1.1.0)\n",
      "Requirement already satisfied: ffmpy in /home/work/.local/lib/python3.10/site-packages (from gradio>=3.40.0->ms-swift) (0.6.1)\n",
      "Requirement already satisfied: gradio-client==1.13.2 in /home/work/.local/lib/python3.10/site-packages (from gradio>=3.40.0->ms-swift) (1.13.2)\n",
      "Requirement already satisfied: groovy~=0.1 in /home/work/.local/lib/python3.10/site-packages (from gradio>=3.40.0->ms-swift) (0.1.2)\n",
      "Requirement already satisfied: httpx<1.0,>=0.24.1 in /home/work/hd/.venv/lib/python3.10/site-packages (from gradio>=3.40.0->ms-swift) (0.28.1)\n",
      "Requirement already satisfied: jinja2<4.0 in /home/work/hd/.venv/lib/python3.10/site-packages (from gradio>=3.40.0->ms-swift) (3.1.6)\n",
      "Requirement already satisfied: markupsafe<4.0,>=2.0 in /home/work/.local/lib/python3.10/site-packages (from gradio>=3.40.0->ms-swift) (3.0.2)\n",
      "Requirement already satisfied: orjson~=3.0 in /home/work/hd/.venv/lib/python3.10/site-packages (from gradio>=3.40.0->ms-swift) (3.11.3)\n",
      "Requirement already satisfied: pydantic<2.12,>=2.0 in /home/work/hd/.venv/lib/python3.10/site-packages (from gradio>=3.40.0->ms-swift) (2.11.10)\n",
      "Requirement already satisfied: pydub in /home/work/.local/lib/python3.10/site-packages (from gradio>=3.40.0->ms-swift) (0.25.1)\n",
      "Requirement already satisfied: python-multipart>=0.0.18 in /home/work/.local/lib/python3.10/site-packages (from gradio>=3.40.0->ms-swift) (0.0.20)\n",
      "Requirement already satisfied: ruff>=0.9.3 in /home/work/.local/lib/python3.10/site-packages (from gradio>=3.40.0->ms-swift) (0.13.2)\n",
      "Requirement already satisfied: safehttpx<0.2.0,>=0.1.6 in /home/work/.local/lib/python3.10/site-packages (from gradio>=3.40.0->ms-swift) (0.1.6)\n",
      "Requirement already satisfied: semantic-version~=2.0 in /home/work/.local/lib/python3.10/site-packages (from gradio>=3.40.0->ms-swift) (2.10.0)\n",
      "Requirement already satisfied: starlette<1.0,>=0.40.0 in /home/work/.local/lib/python3.10/site-packages (from gradio>=3.40.0->ms-swift) (0.48.0)\n",
      "Requirement already satisfied: tomlkit<0.14.0,>=0.12.0 in /home/work/.local/lib/python3.10/site-packages (from gradio>=3.40.0->ms-swift) (0.13.3)\n",
      "Requirement already satisfied: typer<1.0,>=0.12 in /home/work/hd/.venv/lib/python3.10/site-packages (from gradio>=3.40.0->ms-swift) (0.19.2)\n",
      "Requirement already satisfied: websockets<16.0,>=13.0 in /home/work/.local/lib/python3.10/site-packages (from gradio-client==1.13.2->gradio>=3.40.0->ms-swift) (15.0.1)\n",
      "Requirement already satisfied: exceptiongroup>=1.0.2 in /home/work/hd/.venv/lib/python3.10/site-packages (from anyio<5.0,>=3.0->gradio>=3.40.0->ms-swift) (1.3.0)\n",
      "Requirement already satisfied: sniffio>=1.1 in /home/work/hd/.venv/lib/python3.10/site-packages (from anyio<5.0,>=3.0->gradio>=3.40.0->ms-swift) (1.3.1)\n",
      "Requirement already satisfied: certifi in /home/work/hd/.venv/lib/python3.10/site-packages (from httpx<1.0,>=0.24.1->gradio>=3.40.0->ms-swift) (2025.10.5)\n",
      "Requirement already satisfied: httpcore==1.* in /home/work/hd/.venv/lib/python3.10/site-packages (from httpx<1.0,>=0.24.1->gradio>=3.40.0->ms-swift) (1.0.9)\n",
      "Requirement already satisfied: h11>=0.16 in /home/work/hd/.venv/lib/python3.10/site-packages (from httpcore==1.*->httpx<1.0,>=0.24.1->gradio>=3.40.0->ms-swift) (0.16.0)\n",
      "Requirement already satisfied: python-dateutil>=2.8.2 in /home/work/hd/.venv/lib/python3.10/site-packages (from pandas->ms-swift) (2.9.0.post0)\n",
      "Requirement already satisfied: pytz>=2020.1 in /home/work/hd/.venv/lib/python3.10/site-packages (from pandas->ms-swift) (2025.2)\n",
      "Requirement already satisfied: tzdata>=2022.7 in /home/work/hd/.venv/lib/python3.10/site-packages (from pandas->ms-swift) (2025.2)\n",
      "Requirement already satisfied: annotated-types>=0.6.0 in /home/work/hd/.venv/lib/python3.10/site-packages (from pydantic<2.12,>=2.0->gradio>=3.40.0->ms-swift) (0.7.0)\n",
      "Requirement already satisfied: pydantic-core==2.33.2 in /home/work/hd/.venv/lib/python3.10/site-packages (from pydantic<2.12,>=2.0->gradio>=3.40.0->ms-swift) (2.33.2)\n",
      "Requirement already satisfied: typing-inspection>=0.4.0 in /home/work/hd/.venv/lib/python3.10/site-packages (from pydantic<2.12,>=2.0->gradio>=3.40.0->ms-swift) (0.4.2)\n",
      "Requirement already satisfied: click>=8.0.0 in /home/work/hd/.venv/lib/python3.10/site-packages (from typer<1.0,>=0.12->gradio>=3.40.0->ms-swift) (8.3.0)\n",
      "Requirement already satisfied: shellingham>=1.3.0 in /home/work/hd/.venv/lib/python3.10/site-packages (from typer<1.0,>=0.12->gradio>=3.40.0->ms-swift) (1.5.4)\n",
      "Requirement already satisfied: rich>=10.11.0 in /home/work/hd/.venv/lib/python3.10/site-packages (from typer<1.0,>=0.12->gradio>=3.40.0->ms-swift) (14.2.0)\n",
      "Requirement already satisfied: setuptools in /home/work/hd/.venv/lib/python3.10/site-packages (from modelscope>=1.23->ms-swift) (69.5.1)\n",
      "Requirement already satisfied: urllib3>=1.26 in /home/work/hd/.venv/lib/python3.10/site-packages (from modelscope>=1.23->ms-swift) (2.5.0)\n",
      "Requirement already satisfied: six>=1.5 in /home/work/hd/.venv/lib/python3.10/site-packages (from python-dateutil>=2.8.2->pandas->ms-swift) (1.17.0)\n",
      "Requirement already satisfied: markdown-it-py>=2.2.0 in /home/work/hd/.venv/lib/python3.10/site-packages (from rich>=10.11.0->typer<1.0,>=0.12->gradio>=3.40.0->ms-swift) (4.0.0)\n",
      "Requirement already satisfied: pygments<3.0.0,>=2.13.0 in /home/work/hd/.venv/lib/python3.10/site-packages (from rich>=10.11.0->typer<1.0,>=0.12->gradio>=3.40.0->ms-swift) (2.19.2)\n",
      "Requirement already satisfied: mdurl~=0.1 in /home/work/hd/.venv/lib/python3.10/site-packages (from markdown-it-py>=2.2.0->rich>=10.11.0->typer<1.0,>=0.12->gradio>=3.40.0->ms-swift) (0.1.2)\n",
      "Requirement already satisfied: sympy>=1.13.3 in /home/work/hd/.venv/lib/python3.10/site-packages (from torch>=1.13.0->peft<0.18,>=0.11->ms-swift) (1.14.0)\n",
      "Requirement already satisfied: networkx in /home/work/hd/.venv/lib/python3.10/site-packages (from torch>=1.13.0->peft<0.18,>=0.11->ms-swift) (3.4.2)\n",
      "Requirement already satisfied: nvidia-cuda-nvrtc-cu12==12.8.93 in /home/work/hd/.venv/lib/python3.10/site-packages (from torch>=1.13.0->peft<0.18,>=0.11->ms-swift) (12.8.93)\n",
      "Requirement already satisfied: nvidia-cuda-runtime-cu12==12.8.90 in /home/work/hd/.venv/lib/python3.10/site-packages (from torch>=1.13.0->peft<0.18,>=0.11->ms-swift) (12.8.90)\n",
      "Requirement already satisfied: nvidia-cuda-cupti-cu12==12.8.90 in /home/work/hd/.venv/lib/python3.10/site-packages (from torch>=1.13.0->peft<0.18,>=0.11->ms-swift) (12.8.90)\n",
      "Requirement already satisfied: nvidia-cudnn-cu12==9.10.2.21 in /home/work/hd/.venv/lib/python3.10/site-packages (from torch>=1.13.0->peft<0.18,>=0.11->ms-swift) (9.10.2.21)\n",
      "Requirement already satisfied: nvidia-cublas-cu12==12.8.4.1 in /home/work/hd/.venv/lib/python3.10/site-packages (from torch>=1.13.0->peft<0.18,>=0.11->ms-swift) (12.8.4.1)\n",
      "Requirement already satisfied: nvidia-cufft-cu12==11.3.3.83 in /home/work/hd/.venv/lib/python3.10/site-packages (from torch>=1.13.0->peft<0.18,>=0.11->ms-swift) (11.3.3.83)\n",
      "Requirement already satisfied: nvidia-curand-cu12==10.3.9.90 in /home/work/hd/.venv/lib/python3.10/site-packages (from torch>=1.13.0->peft<0.18,>=0.11->ms-swift) (10.3.9.90)\n",
      "Requirement already satisfied: nvidia-cusolver-cu12==11.7.3.90 in /home/work/hd/.venv/lib/python3.10/site-packages (from torch>=1.13.0->peft<0.18,>=0.11->ms-swift) (11.7.3.90)\n",
      "Requirement already satisfied: nvidia-cusparse-cu12==12.5.8.93 in /home/work/hd/.venv/lib/python3.10/site-packages (from torch>=1.13.0->peft<0.18,>=0.11->ms-swift) (12.5.8.93)\n",
      "Requirement already satisfied: nvidia-cusparselt-cu12==0.7.1 in /home/work/hd/.venv/lib/python3.10/site-packages (from torch>=1.13.0->peft<0.18,>=0.11->ms-swift) (0.7.1)\n",
      "Requirement already satisfied: nvidia-nccl-cu12==2.27.3 in /home/work/hd/.venv/lib/python3.10/site-packages (from torch>=1.13.0->peft<0.18,>=0.11->ms-swift) (2.27.3)\n",
      "Requirement already satisfied: nvidia-nvtx-cu12==12.8.90 in /home/work/hd/.venv/lib/python3.10/site-packages (from torch>=1.13.0->peft<0.18,>=0.11->ms-swift) (12.8.90)\n",
      "Requirement already satisfied: nvidia-nvjitlink-cu12==12.8.93 in /home/work/hd/.venv/lib/python3.10/site-packages (from torch>=1.13.0->peft<0.18,>=0.11->ms-swift) (12.8.93)\n",
      "Requirement already satisfied: nvidia-cufile-cu12==1.13.1.3 in /home/work/hd/.venv/lib/python3.10/site-packages (from torch>=1.13.0->peft<0.18,>=0.11->ms-swift) (1.13.1.3)\n",
      "Requirement already satisfied: triton==3.4.0 in /home/work/.local/lib/python3.10/site-packages (from torch>=1.13.0->peft<0.18,>=0.11->ms-swift) (3.4.0)\n",
      "Requirement already satisfied: mpmath<1.4,>=1.1.0 in /home/work/hd/.venv/lib/python3.10/site-packages (from sympy>=1.13.3->torch>=1.13.0->peft<0.18,>=0.11->ms-swift) (1.3.0)\n",
      "Requirement already satisfied: future in /home/work/hd/.venv/lib/python3.10/site-packages (from binpacking->ms-swift) (1.0.0)\n",
      "Requirement already satisfied: zipp>=3.20 in /home/work/hd/.venv/lib/python3.10/site-packages (from importlib-metadata->ms-swift) (3.23.0)\n",
      "Requirement already satisfied: contourpy>=1.0.1 in /home/work/hd/.venv/lib/python3.10/site-packages (from matplotlib->ms-swift) (1.3.2)\n",
      "Requirement already satisfied: cycler>=0.10 in /home/work/hd/.venv/lib/python3.10/site-packages (from matplotlib->ms-swift) (0.12.1)\n",
      "Requirement already satisfied: fonttools>=4.22.0 in /home/work/hd/.venv/lib/python3.10/site-packages (from matplotlib->ms-swift) (4.60.1)\n",
      "Requirement already satisfied: kiwisolver>=1.3.1 in /home/work/hd/.venv/lib/python3.10/site-packages (from matplotlib->ms-swift) (1.4.9)\n",
      "Requirement already satisfied: pyparsing>=3 in /home/work/hd/.venv/lib/python3.10/site-packages (from matplotlib->ms-swift) (3.2.5)\n",
      "Requirement already satisfied: joblib in /home/work/hd/.venv/lib/python3.10/site-packages (from nltk->ms-swift) (1.5.2)\n",
      "Requirement already satisfied: distro<2,>=1.7.0 in /home/work/.local/lib/python3.10/site-packages (from openai->ms-swift) (1.9.0)\n",
      "Requirement already satisfied: jiter<1,>=0.4.0 in /home/work/.local/lib/python3.10/site-packages (from openai->ms-swift) (0.11.0)\n",
      "Requirement already satisfied: crcmod>=1.7 in /home/work/.local/lib/python3.10/site-packages (from oss2->ms-swift) (1.7)\n",
      "Requirement already satisfied: pycryptodome>=3.4.7 in /home/work/.local/lib/python3.10/site-packages (from oss2->ms-swift) (3.23.0)\n",
      "Requirement already satisfied: aliyun-python-sdk-kms>=2.4.1 in /home/work/.local/lib/python3.10/site-packages (from oss2->ms-swift) (2.16.5)\n",
      "Requirement already satisfied: aliyun-python-sdk-core>=2.13.12 in /home/work/.local/lib/python3.10/site-packages (from oss2->ms-swift) (2.16.0)\n",
      "Requirement already satisfied: jmespath<1.0.0,>=0.9.3 in /home/work/hd/.venv/lib/python3.10/site-packages (from aliyun-python-sdk-core>=2.13.12->oss2->ms-swift) (0.10.0)\n",
      "Requirement already satisfied: cryptography>=3.0.0 in /home/work/hd/.venv/lib/python3.10/site-packages (from aliyun-python-sdk-core>=2.13.12->oss2->ms-swift) (46.0.2)\n",
      "Requirement already satisfied: cffi>=2.0.0 in /home/work/hd/.venv/lib/python3.10/site-packages (from cryptography>=3.0.0->aliyun-python-sdk-core>=2.13.12->oss2->ms-swift) (2.0.0)\n",
      "Requirement already satisfied: pycparser in /home/work/hd/.venv/lib/python3.10/site-packages (from cffi>=2.0.0->cryptography>=3.0.0->aliyun-python-sdk-core>=2.13.12->oss2->ms-swift) (2.23)\n",
      "Requirement already satisfied: absl-py>=0.4 in /home/work/hd/.venv/lib/python3.10/site-packages (from tensorboard->ms-swift) (2.3.1)\n",
      "Requirement already satisfied: grpcio>=1.48.2 in /home/work/hd/.venv/lib/python3.10/site-packages (from tensorboard->ms-swift) (1.75.1)\n",
      "Requirement already satisfied: markdown>=2.6.8 in /home/work/hd/.venv/lib/python3.10/site-packages (from tensorboard->ms-swift) (3.9)\n",
      "Requirement already satisfied: protobuf!=4.24.0,>=3.19.6 in /home/work/hd/.venv/lib/python3.10/site-packages (from tensorboard->ms-swift) (6.32.1)\n",
      "Requirement already satisfied: tensorboard-data-server<0.8.0,>=0.7.0 in /home/work/hd/.venv/lib/python3.10/site-packages (from tensorboard->ms-swift) (0.7.2)\n",
      "Requirement already satisfied: werkzeug>=1.0.1 in /home/work/hd/.venv/lib/python3.10/site-packages (from tensorboard->ms-swift) (3.1.3)\n",
      "Note: you may need to restart the kernel to use updated packages.\n",
      "Looking in indexes: https://pypi.org/simple, https://pypi.ngc.nvidia.com\n",
      "Requirement already satisfied: transformers in /home/work/hd/.venv/lib/python3.10/site-packages (4.57.1)\n",
      "Requirement already satisfied: filelock in /home/work/hd/.venv/lib/python3.10/site-packages (from transformers) (3.20.0)\n",
      "Requirement already satisfied: huggingface-hub<1.0,>=0.34.0 in /home/work/.local/lib/python3.10/site-packages (from transformers) (0.35.1)\n",
      "Requirement already satisfied: numpy>=1.17 in /home/work/hd/.venv/lib/python3.10/site-packages (from transformers) (1.26.4)\n",
      "Requirement already satisfied: packaging>=20.0 in /home/work/hd/.venv/lib/python3.10/site-packages (from transformers) (25.0)\n",
      "Requirement already satisfied: pyyaml>=5.1 in /home/work/hd/.venv/lib/python3.10/site-packages (from transformers) (6.0.3)\n",
      "Requirement already satisfied: regex!=2019.12.17 in /home/work/hd/.venv/lib/python3.10/site-packages (from transformers) (2025.9.18)\n",
      "Requirement already satisfied: requests in /home/work/hd/.venv/lib/python3.10/site-packages (from transformers) (2.32.5)\n",
      "Requirement already satisfied: tokenizers<=0.23.0,>=0.22.0 in /home/work/.local/lib/python3.10/site-packages (from transformers) (0.22.1)\n",
      "Requirement already satisfied: safetensors>=0.4.3 in /home/work/hd/.venv/lib/python3.10/site-packages (from transformers) (0.6.2)\n",
      "Requirement already satisfied: tqdm>=4.27 in /home/work/hd/.venv/lib/python3.10/site-packages (from transformers) (4.67.1)\n",
      "Requirement already satisfied: fsspec>=2023.5.0 in /home/work/hd/.venv/lib/python3.10/site-packages (from huggingface-hub<1.0,>=0.34.0->transformers) (2025.3.0)\n",
      "Requirement already satisfied: typing-extensions>=3.7.4.3 in /home/work/hd/.venv/lib/python3.10/site-packages (from huggingface-hub<1.0,>=0.34.0->transformers) (4.15.0)\n",
      "Requirement already satisfied: hf-xet<2.0.0,>=1.1.3 in /home/work/.local/lib/python3.10/site-packages (from huggingface-hub<1.0,>=0.34.0->transformers) (1.1.10)\n",
      "Requirement already satisfied: charset_normalizer<4,>=2 in /home/work/hd/.venv/lib/python3.10/site-packages (from requests->transformers) (3.4.3)\n",
      "Requirement already satisfied: idna<4,>=2.5 in /home/work/hd/.venv/lib/python3.10/site-packages (from requests->transformers) (3.10)\n",
      "Requirement already satisfied: urllib3<3,>=1.21.1 in /home/work/hd/.venv/lib/python3.10/site-packages (from requests->transformers) (2.5.0)\n",
      "Requirement already satisfied: certifi>=2017.4.17 in /home/work/hd/.venv/lib/python3.10/site-packages (from requests->transformers) (2025.10.5)\n",
      "Note: you may need to restart the kernel to use updated packages.\n"
     ]
    }
   ],
   "source": [
    "%pip install ms-swift -U\n",
    "%pip install transformers -U"
   ]
  },
  {
   "cell_type": "markdown",
   "id": "709a5ea5-dccb-4128-af56-c58b8c6a4885",
   "metadata": {},
   "source": [
    "## 使用Python\n",
    "\n",
    "\n",
    "#### 训练\n",
    "导入一些库："
   ]
  },
  {
   "cell_type": "code",
   "execution_count": 5,
   "id": "389e31e5-f00c-426c-875e-f85afea9040d",
   "metadata": {
    "tags": []
   },
   "outputs": [
    {
     "name": "stderr",
     "output_type": "stream",
     "text": [
      "/home/work/hd/.venv/lib/python3.10/site-packages/tqdm/auto.py:21: TqdmWarning: IProgress not found. Please update jupyter and ipywidgets. See https://ipywidgets.readthedocs.io/en/stable/user_install.html\n",
      "  from .autonotebook import tqdm as notebook_tqdm\n",
      "[INFO:swift] Successfully registered `/home/work/hd/.venv/lib/python3.10/site-packages/swift/llm/dataset/data/dataset_info.json`.\n",
      "WARNING: BNB_CUDA_VERSION=123 environment variable detected; loading libbitsandbytes_cuda123.so.\n",
      "This can be used to load a bitsandbytes version built with a CUDA version that is different from the PyTorch CUDA version.\n",
      "If this was unintended set the BNB_CUDA_VERSION variable to an empty string: export BNB_CUDA_VERSION=\n",
      "\n",
      "[INFO:swift] Global seed set to 42\n"
     ]
    },
    {
     "data": {
      "text/plain": [
       "42"
      ]
     },
     "execution_count": 5,
     "metadata": {},
     "output_type": "execute_result"
    }
   ],
   "source": [
    "import os\n",
    "os.environ['CUDA_VISIBLE_DEVICES'] = '0'\n",
    "\n",
    "from swift.llm import get_model_tokenizer, load_dataset, get_template, EncodePreprocessor\n",
    "from swift.utils import get_logger, find_all_linears, get_model_parameter_info, plot_images, seed_everything\n",
    "from swift.tuners import Swift, LoraConfig\n",
    "from swift.trainers import Seq2SeqTrainer, Seq2SeqTrainingArguments\n",
    "from functools import partial\n",
    "\n",
    "logger = get_logger()\n",
    "seed_everything(42)"
   ]
  },
  {
   "cell_type": "markdown",
   "id": "fec1e09b-3718-40c6-9bc4-83f1abe8ef62",
   "metadata": {},
   "source": [
    "设置训练的超参数："
   ]
  },
  {
   "cell_type": "code",
   "execution_count": null,
   "id": "d986b80b-b4eb-43db-b714-378081a33abb",
   "metadata": {
    "tags": []
   },
   "outputs": [],
   "source": [
    "# 模型\n",
    "model_id_or_path = '/home/work/hd/_models/base/qwen3-4b-thinking'  # model_id or model_path\n",
    "system = 'You are a helpful assistant.'\n",
    "output_dir = 'output'\n",
    "\n",
    "# 数据集\n",
    "dataset = ['AI-ModelScope/alpaca-gpt4-data-zh#500', 'AI-ModelScope/alpaca-gpt4-data-en#500',\n",
    "           'swift/self-cognition#500']  # dataset_id or dataset_path\n",
    "data_seed = 42\n",
    "max_length = 2048\n",
    "split_dataset_ratio = 0.01  # 切分验证集\n",
    "num_proc = 4  # 预处理的进程数\n",
    "# 替换自我认知数据集中的填充符：{{NAME}}, {{AUTHOR}}\n",
    "model_name = ['精衡', 'Jingheng']  # 模型的中文名和英文名\n",
    "model_author = ['叶博韬', 'YE SEVERIN']  # 模型作者的中文名和英文名\n",
    "\n",
    "# lora\n",
    "lora_rank = 8\n",
    "lora_alpha = 32\n",
    "\n",
    "# 训练超参数\n",
    "training_args = Seq2SeqTrainingArguments(\n",
    "    output_dir=output_dir,\n",
    "    learning_rate=1e-4,\n",
    "    per_device_train_batch_size=1,\n",
    "    per_device_eval_batch_size=1,\n",
    "    gradient_checkpointing=True,\n",
    "    weight_decay=0.1,\n",
    "    lr_scheduler_type='cosine',\n",
    "    warmup_ratio=0.05,\n",
    "    report_to=['tensorboard'],\n",
    "    logging_first_step=True,\n",
    "    save_strategy='steps',\n",
    "    save_steps=50,\n",
    "    eval_strategy='steps',\n",
    "    eval_steps=50,\n",
    "    gradient_accumulation_steps=16,\n",
    "    num_train_epochs=1,\n",
    "    metric_for_best_model='loss',\n",
    "    save_total_limit=2,\n",
    "    logging_steps=5,\n",
    "    dataloader_num_workers=1,\n",
    "    data_seed=data_seed,\n",
    ")\n",
    "\n",
    "output_dir = os.path.abspath(os.path.expanduser(output_dir))\n",
    "logger.info(f'output_dir: {output_dir}')"
   ]
  },
  {
   "cell_type": "markdown",
   "id": "ba91bf28-fec1-4a80-ba43-10b3f75699c3",
   "metadata": {},
   "source": [
    "获取模型和对话template，并将可训练的lora层加入到模型中："
   ]
  },
  {
   "cell_type": "code",
   "execution_count": null,
   "id": "ade53c46-aef5-4cde-83c4-1d7ba781a155",
   "metadata": {
    "tags": []
   },
   "outputs": [],
   "source": [
    "model, tokenizer = get_model_tokenizer(model_id_or_path)\n",
    "logger.info(f'model_info: {model.model_info}')\n",
    "template = get_template(model.model_meta.template, tokenizer, default_system=system, max_length=max_length)\n",
    "template.set_mode('train')\n",
    "\n",
    "target_modules = find_all_linears(model)\n",
    "lora_config = LoraConfig(task_type='CAUSAL_LM', r=lora_rank, lora_alpha=lora_alpha,\n",
    "                         target_modules=target_modules)\n",
    "model = Swift.prepare_model(model, lora_config)\n",
    "logger.info(f'lora_config: {lora_config}')\n",
    "\n",
    "# 打印模型结构和训练的参数量\n",
    "logger.info(f'model: {model}')\n",
    "model_parameter_info = get_model_parameter_info(model)\n",
    "logger.info(f'model_parameter_info: {model_parameter_info}')"
   ]
  },
  {
   "cell_type": "markdown",
   "id": "ca2b77fe-5048-4323-9a57-c1f7a4042334",
   "metadata": {},
   "source": [
    "下载并载入数据集，并切分成训练集和验证集，\n",
    "\n",
    "然后将文本编码成tokens："
   ]
  },
  {
   "cell_type": "code",
   "execution_count": null,
   "id": "638d3513-e734-4307-b070-178a4f0128b6",
   "metadata": {
    "tags": []
   },
   "outputs": [],
   "source": [
    "train_dataset, val_dataset = load_dataset(dataset, split_dataset_ratio=split_dataset_ratio, num_proc=num_proc,\n",
    "        model_name=model_name, model_author=model_author, seed=data_seed)\n",
    "\n",
    "logger.info(f'train_dataset: {train_dataset}')\n",
    "logger.info(f'val_dataset: {val_dataset}')\n",
    "logger.info(f'train_dataset[0]: {train_dataset[0]}')\n",
    "\n",
    "train_dataset = EncodePreprocessor(template=template)(train_dataset, num_proc=num_proc)\n",
    "val_dataset = EncodePreprocessor(template=template)(val_dataset, num_proc=num_proc)\n",
    "logger.info(f'encoded_train_dataset[0]: {train_dataset[0]}')\n",
    "\n",
    "# 打印一条样本\n",
    "template.print_inputs(train_dataset[0])"
   ]
  },
  {
   "cell_type": "markdown",
   "id": "d4f90f0e-8da2-42ab-8f5b-2a39da539a5e",
   "metadata": {},
   "source": [
    "初始化trainer并开始训练："
   ]
  },
  {
   "cell_type": "code",
   "execution_count": null,
   "id": "959b1a9c-cf0b-4985-9dac-1bc9b1d12473",
   "metadata": {
    "tags": []
   },
   "outputs": [],
   "source": [
    "model.enable_input_require_grads()  # 兼容gradient checkpointing\n",
    "trainer = Seq2SeqTrainer(\n",
    "    model=model,\n",
    "    args=training_args,\n",
    "    data_collator=template.data_collator,\n",
    "    train_dataset=train_dataset,\n",
    "    eval_dataset=val_dataset,\n",
    "    template=template,\n",
    ")\n",
    "trainer.train()\n",
    "\n",
    "last_model_checkpoint = trainer.state.last_model_checkpoint\n",
    "logger.info(f'last_model_checkpoint: {last_model_checkpoint}')"
   ]
  },
  {
   "cell_type": "markdown",
   "id": "5d178b52-fedb-4819-a463-27b624f310ff",
   "metadata": {},
   "source": [
    "可视化训练的loss。其中浅黄色线条代表真实loss值，黄色线条代表经过0.9平滑系数平滑后的loss值。\n",
    "\n",
    "你也可以使用tensorboard进行实时可视化，在命令行输入`tensorboard --logdir '{output_dir}/runs'`。"
   ]
  },
  {
   "cell_type": "code",
   "execution_count": null,
   "id": "92274822-0837-4521-9ad9-840ec0425d85",
   "metadata": {},
   "outputs": [],
   "source": [
    "images_dir = os.path.join(output_dir, 'images')\n",
    "logger.info(f'images_dir: {images_dir}')\n",
    "plot_images(images_dir, training_args.logging_dir, ['train/loss'], 0.9)  # 保存图片\n",
    "\n",
    "# 展示图片\n",
    "from IPython.display import display\n",
    "from PIL import Image\n",
    "image = Image.open(os.path.join(images_dir, 'train_loss.png'))\n",
    "display(image)"
   ]
  },
  {
   "cell_type": "markdown",
   "id": "80b2216b-02a7-45f2-88ec-0d5c7b273de9",
   "metadata": {},
   "source": [
    "#### 微调后推理"
   ]
  },
  {
   "cell_type": "markdown",
   "id": "cdb6217b-2647-41f4-b6cc-32275dd829f3",
   "metadata": {},
   "source": [
    "导入一些库："
   ]
  },
  {
   "cell_type": "code",
   "execution_count": null,
   "id": "32208bd0-806e-4de5-86fc-1017366ab4f8",
   "metadata": {
    "tags": []
   },
   "outputs": [],
   "source": [
    "import os\n",
    "os.environ['CUDA_VISIBLE_DEVICES'] = '0'\n",
    "\n",
    "from swift.llm import InferEngine, InferRequest, PtEngine, RequestConfig, get_template"
   ]
  },
  {
   "cell_type": "markdown",
   "id": "043c0967-2a57-4dc4-aaa0-62e23f53d3cd",
   "metadata": {},
   "source": [
    "设置推理的超参数："
   ]
  },
  {
   "cell_type": "code",
   "execution_count": 2,
   "id": "0229fa94-1aab-4727-930d-e354bdf30986",
   "metadata": {
    "ExecutionIndicator": {
     "show": false
    },
    "execution": {
     "iopub.execute_input": "2024-12-25T16:56:32.156242Z",
     "iopub.status.busy": "2024-12-25T16:56:32.155674Z",
     "iopub.status.idle": "2024-12-25T16:56:32.159195Z",
     "shell.execute_reply": "2024-12-25T16:56:32.158698Z",
     "shell.execute_reply.started": "2024-12-25T16:56:32.156217Z"
    },
    "tags": []
   },
   "outputs": [],
   "source": [
    "last_model_checkpoint = 'output/vx-xxx/checkpoint-xxx'\n",
    "\n",
    "# 模型\n",
    "model_id_or_path = 'Qwen/Qwen2.5-3B-Instruct'  # model_id or model_path\n",
    "system = 'You are a helpful assistant.'\n",
    "infer_backend = 'pt'\n",
    "\n",
    "# 生成参数\n",
    "max_new_tokens = 512\n",
    "temperature = 0\n",
    "stream = True"
   ]
  },
  {
   "cell_type": "markdown",
   "id": "da8a3bf9-c321-4f33-9251-944059537a4d",
   "metadata": {},
   "source": [
    "获取推理引擎，并载入LoRA权重："
   ]
  },
  {
   "cell_type": "code",
   "execution_count": null,
   "id": "47bcc49e-c354-48bf-b869-3db603e8d648",
   "metadata": {
    "tags": []
   },
   "outputs": [],
   "source": [
    "engine = PtEngine(model_id_or_path, adapters=[last_model_checkpoint])\n",
    "template = get_template(engine.model.model_meta.template, engine.tokenizer, default_system=system)\n",
    "# 这里对推理引擎的默认template进行修改，也可以在`engine.infer`时进行传入\n",
    "engine.default_template = template"
   ]
  },
  {
   "cell_type": "markdown",
   "id": "71a01fa0-673d-44f3-9891-b31faaf63b6f",
   "metadata": {},
   "source": [
    "开始推理..."
   ]
  },
  {
   "cell_type": "code",
   "execution_count": null,
   "id": "8d657572-67a1-4224-ac37-6fefee54d179",
   "metadata": {
    "tags": []
   },
   "outputs": [],
   "source": [
    "query_list = [\n",
    "    'who are you?',\n",
    "    \"晚上睡不着觉怎么办？\",\n",
    "    '你是谁训练的？',\n",
    "]\n",
    "\n",
    "def infer_stream(engine: InferEngine, infer_request: InferRequest):\n",
    "    request_config = RequestConfig(max_tokens=max_new_tokens, temperature=temperature, stream=True)\n",
    "    gen_list = engine.infer([infer_request], request_config)\n",
    "    query = infer_request.messages[0]['content']\n",
    "    print(f'query: {query}\\nresponse: ', end='')\n",
    "    for resp in gen_list[0]:\n",
    "        if resp is None:\n",
    "            continue\n",
    "        print(resp_list[0].choices[0].delta.content, end='', flush=True)\n",
    "    print()\n",
    "\n",
    "def infer(engine: InferEngine, infer_request: InferRequest):\n",
    "    request_config = RequestConfig(max_tokens=max_new_tokens, temperature=temperature)\n",
    "    resp_list = engine.infer([infer_request], request_config)\n",
    "    query = infer_request.messages[0]['content']\n",
    "    response = resp_list[0].choices[0].message.content\n",
    "    print(f'query: {query}')\n",
    "    print(f'response: {response}')\n",
    "\n",
    "infer_func = infer_stream if stream else infer\n",
    "for query in query_list:\n",
    "    infer_func(engine, InferRequest(messages=[{'role': 'user', 'content': query}]))\n",
    "    print('-' * 50)"
   ]
  },
  {
   "cell_type": "markdown",
   "id": "9870a41b-d05a-49eb-ae65-c8674cfb3d65",
   "metadata": {},
   "source": [
    "## Web-UI"
   ]
  },
  {
   "cell_type": "code",
   "execution_count": 2,
   "id": "cc891d97-4be5-43e0-8a39-9c805d242059",
   "metadata": {
    "ExecutionIndicator": {
     "show": true
    },
    "tags": []
   },
   "outputs": [
    {
     "name": "stdout",
     "output_type": "stream",
     "text": [
      "[WARNING:swift] Please use `swift app`.\n",
      "run sh: `/home/work/hd/.venv/bin/python3 /home/work/.local/lib/python3.10/site-packages/swift/cli/app.py --adapters output/vx-xxx/checkpoint-xxx --temperature 0 --infer_backend pt --max_new_tokens 2048`\n",
      "[INFO:swift] Successfully registered `/home/work/.local/lib/python3.10/site-packages/swift/llm/dataset/data/dataset_info.json`.\n",
      "WARNING: BNB_CUDA_VERSION=123 environment variable detected; loading libbitsandbytes_cuda123.so.\n",
      "This can be used to load a bitsandbytes version built with a CUDA version that is different from the PyTorch CUDA version.\n",
      "If this was unintended set the BNB_CUDA_VERSION variable to an empty string: export BNB_CUDA_VERSION=\n",
      "\n",
      "[INFO:swift] Downloading the model from ModelScope Hub, model_id: output/vx-xxx/checkpoint-xxx\n",
      "Traceback (most recent call last):\n",
      "  File \"/home/work/.local/lib/python3.10/site-packages/swift/cli/app.py\", line 4, in <module>\n",
      "    app_main()\n",
      "  File \"/home/work/.local/lib/python3.10/site-packages/swift/llm/app/app.py\", line 44, in app_main\n",
      "    return SwiftApp(args).main()\n",
      "  File \"/home/work/.local/lib/python3.10/site-packages/swift/llm/base.py\", line 19, in __init__\n",
      "    self.args = self._parse_args(args)\n",
      "  File \"/home/work/.local/lib/python3.10/site-packages/swift/llm/base.py\", line 31, in _parse_args\n",
      "    args, remaining_argv = parse_args(self.args_class, args)\n",
      "  File \"/home/work/.local/lib/python3.10/site-packages/swift/utils/utils.py\", line 152, in parse_args\n",
      "    args, remaining_args = parser.parse_args_into_dataclasses(argv, return_remaining_strings=True)\n",
      "  File \"/home/work/.local/lib/python3.10/site-packages/transformers/hf_argparser.py\", line 345, in parse_args_into_dataclasses\n",
      "    obj = dtype(**inputs)\n",
      "  File \"<string>\", line 154, in __init__\n",
      "  File \"/home/work/.local/lib/python3.10/site-packages/swift/llm/argument/app_args.py\", line 31, in __post_init__\n",
      "    super().__post_init__()\n",
      "  File \"/home/work/.local/lib/python3.10/site-packages/swift/llm/argument/deploy_args.py\", line 47, in __post_init__\n",
      "    super().__post_init__()\n",
      "  File \"/home/work/.local/lib/python3.10/site-packages/swift/llm/argument/infer_args.py\", line 144, in __post_init__\n",
      "    BaseArguments.__post_init__(self)\n",
      "  File \"/home/work/.local/lib/python3.10/site-packages/swift/llm/argument/base_args/base_args.py\", line 158, in __post_init__\n",
      "    self._init_adapters()\n",
      "  File \"/home/work/.local/lib/python3.10/site-packages/swift/llm/argument/deploy_args.py\", line 60, in _init_adapters\n",
      "    adapter_path = safe_snapshot_download(adapter_path, use_hf=self.use_hf, hub_token=self.hub_token)\n",
      "  File \"/home/work/.local/lib/python3.10/site-packages/swift/llm/model/utils.py\", line 308, in safe_snapshot_download\n",
      "    model_dir = hub.download_model(model_id_or_path, revision, ignore_patterns, token=hub_token, **kwargs)\n",
      "  File \"/home/work/.local/lib/python3.10/site-packages/swift/hub/hub.py\", line 323, in download_model\n",
      "    return snapshot_download(model_id_or_path, revision, ignore_patterns=ignore_patterns, **kwargs)\n",
      "  File \"/home/work/.local/lib/python3.10/site-packages/modelscope/hub/snapshot_download.py\", line 132, in snapshot_download\n",
      "    return _snapshot_download(\n",
      "  File \"/home/work/.local/lib/python3.10/site-packages/modelscope/hub/snapshot_download.py\", line 300, in _snapshot_download\n",
      "    endpoint = _api.get_endpoint_for_read(\n",
      "  File \"/home/work/.local/lib/python3.10/site-packages/modelscope/hub/api.py\", line 509, in get_endpoint_for_read\n",
      "    if not self.repo_exists(\n",
      "  File \"/home/work/.local/lib/python3.10/site-packages/modelscope/hub/api.py\", line 657, in repo_exists\n",
      "    raise Exception('Invalid repo_id: %s, must be of format namespace/name' % repo_type)\n",
      "Exception: Invalid repo_id: model, must be of format namespace/name\n"
     ]
    }
   ],
   "source": [
    "!CUDA_VISIBLE_DEVICES=0 \\\n",
    "swift web-ui \\\n",
    "    --adapters output/vx-xxx/checkpoint-xxx \\\n",
    "    --temperature 0 \\\n",
    "    --infer_backend pt \\\n",
    "    --max_new_tokens 2048"
   ]
  }
 ],
 "metadata": {
  "kernelspec": {
   "display_name": ".venv",
   "language": "python",
   "name": "python3"
  },
  "language_info": {
   "codemirror_mode": {
    "name": "ipython",
    "version": 3
   },
   "file_extension": ".py",
   "mimetype": "text/x-python",
   "name": "python",
   "nbconvert_exporter": "python",
   "pygments_lexer": "ipython3",
   "version": "3.10.12"
  }
 },
 "nbformat": 4,
 "nbformat_minor": 5
}
